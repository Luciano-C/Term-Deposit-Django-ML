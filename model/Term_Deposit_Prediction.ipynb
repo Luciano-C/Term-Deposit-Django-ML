{
 "cells": [
  {
   "cell_type": "markdown",
   "id": "5660779f",
   "metadata": {},
   "source": [
    "## Context\n",
    "\n",
    "Term deposits are a major source of income for a bank. A term deposit is a cash investment held at a financial institution. Your money is invested for an agreed rate of interest over a fixed amount of time, or term. The bank has various outreach plans to sell term deposits to their customers such as email marketing, advertisements, telephonic marketing, and digital marketing.\n",
    "\n",
    "Telephonic marketing campaigns still remain one of the most effective way to reach out to people. However, they require huge investment as large call centers are hired to actually execute these campaigns. Hence, it is crucial to identify the customers most likely to convert beforehand so that they can be specifically targeted via call.\n",
    "\n",
    "The data is related to direct marketing campaigns (phone calls) of a Portuguese banking institution. The classification goal is to predict if the client will subscribe to a term deposit (variable y)."
   ]
  },
  {
   "cell_type": "markdown",
   "id": "d57934c4",
   "metadata": {},
   "source": [
    "## Detailed Column Descriptions\n",
    "\n",
    "### Bank client data:\n",
    "\n",
    "1 - age (numeric)  \n",
    "2 - job : type of job (categorical: \"admin.\",\"unknown\",\"unemployed\",\"management\",\"housemaid\",\"entrepreneur\",\"student\",\n",
    "\"blue-collar\",\"self-employed\",\"retired\",\"technician\",\"services\")  \n",
    "3 - marital : marital status (categorical: \"married\",\"divorced\",\"single\"; note: \"divorced\" means divorced or widowed)  \n",
    "4 - education (categorical: \"unknown\",\"secondary\",\"primary\",\"tertiary\")  \n",
    "5 - default: has credit in default? (binary: \"yes\",\"no\")  \n",
    "6 - balance: average yearly balance, in euros (numeric)  \n",
    "7 - housing: has housing loan? (binary: \"yes\",\"no\")  \n",
    "8 - loan: has personal loan? (binary: \"yes\",\"no\")\n",
    "### Related with the last contact of the current campaign:\n",
    "9 - contact: contact communication type (categorical: \"unknown\",\"telephone\",\"cellular\")  \n",
    "10 - day: last contact day of the month (numeric)  \n",
    "11 - month: last contact month of year (categorical: \"jan\", \"feb\", \"mar\", …, \"nov\", \"dec\")  \n",
    "12 - duration: last contact duration, in seconds (numeric)\n",
    "### Other attributes:\n",
    "13 - campaign: number of contacts performed during this campaign and for this client (numeric, includes last contact)  \n",
    "14 - pdays: number of days that passed by after the client was last contacted from a previous campaign (numeric, -1 means client was not previously contacted)  \n",
    "15 - previous: number of contacts performed before this campaign and for this client (numeric)  \n",
    "16 - poutcome: outcome of the previous marketing campaign (categorical: \"unknown\",\"other\",\"failure\",\"success\")\n",
    "\n",
    "### Output variable (desired target):\n",
    "17 - y - has the client subscribed a term deposit? (binary: \"yes\",\"no\")"
   ]
  },
  {
   "cell_type": "markdown",
   "id": "42879ce8",
   "metadata": {},
   "source": [
    "**Dataset Link**: https://www.kaggle.com/datasets/prakharrathi25/banking-dataset-marketing-targets"
   ]
  },
  {
   "cell_type": "code",
   "execution_count": 646,
   "id": "b81c6940",
   "metadata": {},
   "outputs": [],
   "source": [
    "import numpy as np\n",
    "import pandas as pd\n",
    "import matplotlib.pyplot as plt\n",
    "import seaborn as sns\n",
    "\n",
    "from sklearn.preprocessing import StandardScaler, LabelEncoder\n",
    "from sklearn.model_selection import GridSearchCV, cross_val_score, train_test_split\n",
    "\n",
    "from sklearn.linear_model import LogisticRegression\n",
    "from sklearn.svm import SVC\n",
    "from sklearn.neighbors import KNeighborsClassifier\n",
    "from sklearn.ensemble import RandomForestClassifier\n",
    "from sklearn.tree import DecisionTreeClassifier\n",
    "\n",
    "from sklearn.metrics import accuracy_score, precision_score, recall_score, f1_score\n",
    "from sklearn.metrics import confusion_matrix"
   ]
  },
  {
   "cell_type": "markdown",
   "id": "510dff97",
   "metadata": {},
   "source": [
    "## Loading the dataset into a pandas dataframe"
   ]
  },
  {
   "cell_type": "code",
   "execution_count": 567,
   "id": "ea2d679e",
   "metadata": {},
   "outputs": [],
   "source": [
    "# The data is divided into train and test. It will be loaded into one, because we will be doing K-Fold Cross Validation\n",
    "marketing_data_train = pd.read_csv('dataset/banking-dataset-marketing-targets-train.csv', sep=';')\n",
    "marketing_data_test = pd.read_csv('dataset/banking-dataset-marketing-targets-test.csv', sep=';')"
   ]
  },
  {
   "cell_type": "code",
   "execution_count": 568,
   "id": "9ad48ac1",
   "metadata": {},
   "outputs": [
    {
     "name": "stdout",
     "output_type": "stream",
     "text": [
      "(45211, 17) (4521, 17)\n"
     ]
    }
   ],
   "source": [
    "# Checking shapes\n",
    "print(marketing_data_train.shape, marketing_data_test.shape)"
   ]
  },
  {
   "cell_type": "code",
   "execution_count": 569,
   "id": "57d80957",
   "metadata": {},
   "outputs": [
    {
     "data": {
      "text/plain": [
       "True"
      ]
     },
     "execution_count": 569,
     "metadata": {},
     "output_type": "execute_result"
    }
   ],
   "source": [
    "# Checking data consistency in both dataframes.\n",
    "marketing_data_train.dtypes.equals(marketing_data_test.dtypes)"
   ]
  },
  {
   "cell_type": "code",
   "execution_count": 570,
   "id": "7af8f5fe",
   "metadata": {},
   "outputs": [],
   "source": [
    "# Concatenating both dataframes\n",
    "marketing_data = pd.concat([marketing_data_train, marketing_data_test], axis=0, ignore_index=True)"
   ]
  },
  {
   "cell_type": "code",
   "execution_count": 571,
   "id": "5e21e5c2",
   "metadata": {},
   "outputs": [
    {
     "data": {
      "text/plain": [
       "(49732, 17)"
      ]
     },
     "execution_count": 571,
     "metadata": {},
     "output_type": "execute_result"
    }
   ],
   "source": [
    "# Checking shape\n",
    "marketing_data.shape"
   ]
  },
  {
   "cell_type": "code",
   "execution_count": 572,
   "id": "a633af98",
   "metadata": {},
   "outputs": [
    {
     "data": {
      "text/html": [
       "<div>\n",
       "<style scoped>\n",
       "    .dataframe tbody tr th:only-of-type {\n",
       "        vertical-align: middle;\n",
       "    }\n",
       "\n",
       "    .dataframe tbody tr th {\n",
       "        vertical-align: top;\n",
       "    }\n",
       "\n",
       "    .dataframe thead th {\n",
       "        text-align: right;\n",
       "    }\n",
       "</style>\n",
       "<table border=\"1\" class=\"dataframe\">\n",
       "  <thead>\n",
       "    <tr style=\"text-align: right;\">\n",
       "      <th></th>\n",
       "      <th>age</th>\n",
       "      <th>job</th>\n",
       "      <th>marital</th>\n",
       "      <th>education</th>\n",
       "      <th>default</th>\n",
       "      <th>balance</th>\n",
       "      <th>housing</th>\n",
       "      <th>loan</th>\n",
       "      <th>contact</th>\n",
       "      <th>day</th>\n",
       "      <th>month</th>\n",
       "      <th>duration</th>\n",
       "      <th>campaign</th>\n",
       "      <th>pdays</th>\n",
       "      <th>previous</th>\n",
       "      <th>poutcome</th>\n",
       "      <th>y</th>\n",
       "    </tr>\n",
       "  </thead>\n",
       "  <tbody>\n",
       "    <tr>\n",
       "      <th>0</th>\n",
       "      <td>58</td>\n",
       "      <td>management</td>\n",
       "      <td>married</td>\n",
       "      <td>tertiary</td>\n",
       "      <td>no</td>\n",
       "      <td>2143</td>\n",
       "      <td>yes</td>\n",
       "      <td>no</td>\n",
       "      <td>unknown</td>\n",
       "      <td>5</td>\n",
       "      <td>may</td>\n",
       "      <td>261</td>\n",
       "      <td>1</td>\n",
       "      <td>-1</td>\n",
       "      <td>0</td>\n",
       "      <td>unknown</td>\n",
       "      <td>no</td>\n",
       "    </tr>\n",
       "    <tr>\n",
       "      <th>1</th>\n",
       "      <td>44</td>\n",
       "      <td>technician</td>\n",
       "      <td>single</td>\n",
       "      <td>secondary</td>\n",
       "      <td>no</td>\n",
       "      <td>29</td>\n",
       "      <td>yes</td>\n",
       "      <td>no</td>\n",
       "      <td>unknown</td>\n",
       "      <td>5</td>\n",
       "      <td>may</td>\n",
       "      <td>151</td>\n",
       "      <td>1</td>\n",
       "      <td>-1</td>\n",
       "      <td>0</td>\n",
       "      <td>unknown</td>\n",
       "      <td>no</td>\n",
       "    </tr>\n",
       "    <tr>\n",
       "      <th>2</th>\n",
       "      <td>33</td>\n",
       "      <td>entrepreneur</td>\n",
       "      <td>married</td>\n",
       "      <td>secondary</td>\n",
       "      <td>no</td>\n",
       "      <td>2</td>\n",
       "      <td>yes</td>\n",
       "      <td>yes</td>\n",
       "      <td>unknown</td>\n",
       "      <td>5</td>\n",
       "      <td>may</td>\n",
       "      <td>76</td>\n",
       "      <td>1</td>\n",
       "      <td>-1</td>\n",
       "      <td>0</td>\n",
       "      <td>unknown</td>\n",
       "      <td>no</td>\n",
       "    </tr>\n",
       "    <tr>\n",
       "      <th>3</th>\n",
       "      <td>47</td>\n",
       "      <td>blue-collar</td>\n",
       "      <td>married</td>\n",
       "      <td>unknown</td>\n",
       "      <td>no</td>\n",
       "      <td>1506</td>\n",
       "      <td>yes</td>\n",
       "      <td>no</td>\n",
       "      <td>unknown</td>\n",
       "      <td>5</td>\n",
       "      <td>may</td>\n",
       "      <td>92</td>\n",
       "      <td>1</td>\n",
       "      <td>-1</td>\n",
       "      <td>0</td>\n",
       "      <td>unknown</td>\n",
       "      <td>no</td>\n",
       "    </tr>\n",
       "    <tr>\n",
       "      <th>4</th>\n",
       "      <td>33</td>\n",
       "      <td>unknown</td>\n",
       "      <td>single</td>\n",
       "      <td>unknown</td>\n",
       "      <td>no</td>\n",
       "      <td>1</td>\n",
       "      <td>no</td>\n",
       "      <td>no</td>\n",
       "      <td>unknown</td>\n",
       "      <td>5</td>\n",
       "      <td>may</td>\n",
       "      <td>198</td>\n",
       "      <td>1</td>\n",
       "      <td>-1</td>\n",
       "      <td>0</td>\n",
       "      <td>unknown</td>\n",
       "      <td>no</td>\n",
       "    </tr>\n",
       "  </tbody>\n",
       "</table>\n",
       "</div>"
      ],
      "text/plain": [
       "   age           job  marital  education default  balance housing loan  \\\n",
       "0   58    management  married   tertiary      no     2143     yes   no   \n",
       "1   44    technician   single  secondary      no       29     yes   no   \n",
       "2   33  entrepreneur  married  secondary      no        2     yes  yes   \n",
       "3   47   blue-collar  married    unknown      no     1506     yes   no   \n",
       "4   33       unknown   single    unknown      no        1      no   no   \n",
       "\n",
       "   contact  day month  duration  campaign  pdays  previous poutcome   y  \n",
       "0  unknown    5   may       261         1     -1         0  unknown  no  \n",
       "1  unknown    5   may       151         1     -1         0  unknown  no  \n",
       "2  unknown    5   may        76         1     -1         0  unknown  no  \n",
       "3  unknown    5   may        92         1     -1         0  unknown  no  \n",
       "4  unknown    5   may       198         1     -1         0  unknown  no  "
      ]
     },
     "execution_count": 572,
     "metadata": {},
     "output_type": "execute_result"
    }
   ],
   "source": [
    "# Checking first 5 rows\n",
    "marketing_data.head()"
   ]
  },
  {
   "cell_type": "code",
   "execution_count": 573,
   "id": "222a4c5d",
   "metadata": {},
   "outputs": [
    {
     "data": {
      "text/html": [
       "<div>\n",
       "<style scoped>\n",
       "    .dataframe tbody tr th:only-of-type {\n",
       "        vertical-align: middle;\n",
       "    }\n",
       "\n",
       "    .dataframe tbody tr th {\n",
       "        vertical-align: top;\n",
       "    }\n",
       "\n",
       "    .dataframe thead th {\n",
       "        text-align: right;\n",
       "    }\n",
       "</style>\n",
       "<table border=\"1\" class=\"dataframe\">\n",
       "  <thead>\n",
       "    <tr style=\"text-align: right;\">\n",
       "      <th></th>\n",
       "      <th>age</th>\n",
       "      <th>job</th>\n",
       "      <th>marital</th>\n",
       "      <th>education</th>\n",
       "      <th>default</th>\n",
       "      <th>balance</th>\n",
       "      <th>housing</th>\n",
       "      <th>loan</th>\n",
       "      <th>contact</th>\n",
       "      <th>day</th>\n",
       "      <th>month</th>\n",
       "      <th>duration</th>\n",
       "      <th>campaign</th>\n",
       "      <th>pdays</th>\n",
       "      <th>previous</th>\n",
       "      <th>poutcome</th>\n",
       "      <th>y</th>\n",
       "    </tr>\n",
       "  </thead>\n",
       "  <tbody>\n",
       "    <tr>\n",
       "      <th>49727</th>\n",
       "      <td>33</td>\n",
       "      <td>services</td>\n",
       "      <td>married</td>\n",
       "      <td>secondary</td>\n",
       "      <td>no</td>\n",
       "      <td>-333</td>\n",
       "      <td>yes</td>\n",
       "      <td>no</td>\n",
       "      <td>cellular</td>\n",
       "      <td>30</td>\n",
       "      <td>jul</td>\n",
       "      <td>329</td>\n",
       "      <td>5</td>\n",
       "      <td>-1</td>\n",
       "      <td>0</td>\n",
       "      <td>unknown</td>\n",
       "      <td>no</td>\n",
       "    </tr>\n",
       "    <tr>\n",
       "      <th>49728</th>\n",
       "      <td>57</td>\n",
       "      <td>self-employed</td>\n",
       "      <td>married</td>\n",
       "      <td>tertiary</td>\n",
       "      <td>yes</td>\n",
       "      <td>-3313</td>\n",
       "      <td>yes</td>\n",
       "      <td>yes</td>\n",
       "      <td>unknown</td>\n",
       "      <td>9</td>\n",
       "      <td>may</td>\n",
       "      <td>153</td>\n",
       "      <td>1</td>\n",
       "      <td>-1</td>\n",
       "      <td>0</td>\n",
       "      <td>unknown</td>\n",
       "      <td>no</td>\n",
       "    </tr>\n",
       "    <tr>\n",
       "      <th>49729</th>\n",
       "      <td>57</td>\n",
       "      <td>technician</td>\n",
       "      <td>married</td>\n",
       "      <td>secondary</td>\n",
       "      <td>no</td>\n",
       "      <td>295</td>\n",
       "      <td>no</td>\n",
       "      <td>no</td>\n",
       "      <td>cellular</td>\n",
       "      <td>19</td>\n",
       "      <td>aug</td>\n",
       "      <td>151</td>\n",
       "      <td>11</td>\n",
       "      <td>-1</td>\n",
       "      <td>0</td>\n",
       "      <td>unknown</td>\n",
       "      <td>no</td>\n",
       "    </tr>\n",
       "    <tr>\n",
       "      <th>49730</th>\n",
       "      <td>28</td>\n",
       "      <td>blue-collar</td>\n",
       "      <td>married</td>\n",
       "      <td>secondary</td>\n",
       "      <td>no</td>\n",
       "      <td>1137</td>\n",
       "      <td>no</td>\n",
       "      <td>no</td>\n",
       "      <td>cellular</td>\n",
       "      <td>6</td>\n",
       "      <td>feb</td>\n",
       "      <td>129</td>\n",
       "      <td>4</td>\n",
       "      <td>211</td>\n",
       "      <td>3</td>\n",
       "      <td>other</td>\n",
       "      <td>no</td>\n",
       "    </tr>\n",
       "    <tr>\n",
       "      <th>49731</th>\n",
       "      <td>44</td>\n",
       "      <td>entrepreneur</td>\n",
       "      <td>single</td>\n",
       "      <td>tertiary</td>\n",
       "      <td>no</td>\n",
       "      <td>1136</td>\n",
       "      <td>yes</td>\n",
       "      <td>yes</td>\n",
       "      <td>cellular</td>\n",
       "      <td>3</td>\n",
       "      <td>apr</td>\n",
       "      <td>345</td>\n",
       "      <td>2</td>\n",
       "      <td>249</td>\n",
       "      <td>7</td>\n",
       "      <td>other</td>\n",
       "      <td>no</td>\n",
       "    </tr>\n",
       "  </tbody>\n",
       "</table>\n",
       "</div>"
      ],
      "text/plain": [
       "       age            job  marital  education default  balance housing loan  \\\n",
       "49727   33       services  married  secondary      no     -333     yes   no   \n",
       "49728   57  self-employed  married   tertiary     yes    -3313     yes  yes   \n",
       "49729   57     technician  married  secondary      no      295      no   no   \n",
       "49730   28    blue-collar  married  secondary      no     1137      no   no   \n",
       "49731   44   entrepreneur   single   tertiary      no     1136     yes  yes   \n",
       "\n",
       "        contact  day month  duration  campaign  pdays  previous poutcome   y  \n",
       "49727  cellular   30   jul       329         5     -1         0  unknown  no  \n",
       "49728   unknown    9   may       153         1     -1         0  unknown  no  \n",
       "49729  cellular   19   aug       151        11     -1         0  unknown  no  \n",
       "49730  cellular    6   feb       129         4    211         3    other  no  \n",
       "49731  cellular    3   apr       345         2    249         7    other  no  "
      ]
     },
     "execution_count": 573,
     "metadata": {},
     "output_type": "execute_result"
    }
   ],
   "source": [
    "marketing_data.tail()"
   ]
  },
  {
   "cell_type": "markdown",
   "id": "52fce030",
   "metadata": {},
   "source": [
    "## Exploratory Analysis"
   ]
  },
  {
   "cell_type": "code",
   "execution_count": 574,
   "id": "fdb6810e",
   "metadata": {},
   "outputs": [
    {
     "name": "stdout",
     "output_type": "stream",
     "text": [
      "<class 'pandas.core.frame.DataFrame'>\n",
      "RangeIndex: 49732 entries, 0 to 49731\n",
      "Data columns (total 17 columns):\n",
      " #   Column     Non-Null Count  Dtype \n",
      "---  ------     --------------  ----- \n",
      " 0   age        49732 non-null  int64 \n",
      " 1   job        49732 non-null  object\n",
      " 2   marital    49732 non-null  object\n",
      " 3   education  49732 non-null  object\n",
      " 4   default    49732 non-null  object\n",
      " 5   balance    49732 non-null  int64 \n",
      " 6   housing    49732 non-null  object\n",
      " 7   loan       49732 non-null  object\n",
      " 8   contact    49732 non-null  object\n",
      " 9   day        49732 non-null  int64 \n",
      " 10  month      49732 non-null  object\n",
      " 11  duration   49732 non-null  int64 \n",
      " 12  campaign   49732 non-null  int64 \n",
      " 13  pdays      49732 non-null  int64 \n",
      " 14  previous   49732 non-null  int64 \n",
      " 15  poutcome   49732 non-null  object\n",
      " 16  y          49732 non-null  object\n",
      "dtypes: int64(7), object(10)\n",
      "memory usage: 6.5+ MB\n",
      "None\n"
     ]
    }
   ],
   "source": [
    "print(marketing_data.info())"
   ]
  },
  {
   "cell_type": "code",
   "execution_count": 575,
   "id": "0a9c88f1",
   "metadata": {},
   "outputs": [
    {
     "data": {
      "text/html": [
       "<div>\n",
       "<style scoped>\n",
       "    .dataframe tbody tr th:only-of-type {\n",
       "        vertical-align: middle;\n",
       "    }\n",
       "\n",
       "    .dataframe tbody tr th {\n",
       "        vertical-align: top;\n",
       "    }\n",
       "\n",
       "    .dataframe thead th {\n",
       "        text-align: right;\n",
       "    }\n",
       "</style>\n",
       "<table border=\"1\" class=\"dataframe\">\n",
       "  <thead>\n",
       "    <tr style=\"text-align: right;\">\n",
       "      <th></th>\n",
       "      <th>age</th>\n",
       "      <th>job</th>\n",
       "      <th>marital</th>\n",
       "      <th>education</th>\n",
       "      <th>default</th>\n",
       "      <th>balance</th>\n",
       "      <th>housing</th>\n",
       "      <th>loan</th>\n",
       "      <th>contact</th>\n",
       "      <th>day</th>\n",
       "      <th>month</th>\n",
       "      <th>duration</th>\n",
       "      <th>campaign</th>\n",
       "      <th>pdays</th>\n",
       "      <th>previous</th>\n",
       "      <th>poutcome</th>\n",
       "      <th>y</th>\n",
       "    </tr>\n",
       "  </thead>\n",
       "  <tbody>\n",
       "    <tr>\n",
       "      <th>count</th>\n",
       "      <td>49732.000000</td>\n",
       "      <td>49732</td>\n",
       "      <td>49732</td>\n",
       "      <td>49732</td>\n",
       "      <td>49732</td>\n",
       "      <td>49732.000000</td>\n",
       "      <td>49732</td>\n",
       "      <td>49732</td>\n",
       "      <td>49732</td>\n",
       "      <td>49732.000000</td>\n",
       "      <td>49732</td>\n",
       "      <td>49732.000000</td>\n",
       "      <td>49732.000000</td>\n",
       "      <td>49732.000000</td>\n",
       "      <td>49732.000000</td>\n",
       "      <td>49732</td>\n",
       "      <td>49732</td>\n",
       "    </tr>\n",
       "    <tr>\n",
       "      <th>unique</th>\n",
       "      <td>NaN</td>\n",
       "      <td>12</td>\n",
       "      <td>3</td>\n",
       "      <td>4</td>\n",
       "      <td>2</td>\n",
       "      <td>NaN</td>\n",
       "      <td>2</td>\n",
       "      <td>2</td>\n",
       "      <td>3</td>\n",
       "      <td>NaN</td>\n",
       "      <td>12</td>\n",
       "      <td>NaN</td>\n",
       "      <td>NaN</td>\n",
       "      <td>NaN</td>\n",
       "      <td>NaN</td>\n",
       "      <td>4</td>\n",
       "      <td>2</td>\n",
       "    </tr>\n",
       "    <tr>\n",
       "      <th>top</th>\n",
       "      <td>NaN</td>\n",
       "      <td>blue-collar</td>\n",
       "      <td>married</td>\n",
       "      <td>secondary</td>\n",
       "      <td>no</td>\n",
       "      <td>NaN</td>\n",
       "      <td>yes</td>\n",
       "      <td>no</td>\n",
       "      <td>cellular</td>\n",
       "      <td>NaN</td>\n",
       "      <td>may</td>\n",
       "      <td>NaN</td>\n",
       "      <td>NaN</td>\n",
       "      <td>NaN</td>\n",
       "      <td>NaN</td>\n",
       "      <td>unknown</td>\n",
       "      <td>no</td>\n",
       "    </tr>\n",
       "    <tr>\n",
       "      <th>freq</th>\n",
       "      <td>NaN</td>\n",
       "      <td>10678</td>\n",
       "      <td>30011</td>\n",
       "      <td>25508</td>\n",
       "      <td>48841</td>\n",
       "      <td>NaN</td>\n",
       "      <td>27689</td>\n",
       "      <td>41797</td>\n",
       "      <td>32181</td>\n",
       "      <td>NaN</td>\n",
       "      <td>15164</td>\n",
       "      <td>NaN</td>\n",
       "      <td>NaN</td>\n",
       "      <td>NaN</td>\n",
       "      <td>NaN</td>\n",
       "      <td>40664</td>\n",
       "      <td>43922</td>\n",
       "    </tr>\n",
       "    <tr>\n",
       "      <th>mean</th>\n",
       "      <td>40.957472</td>\n",
       "      <td>NaN</td>\n",
       "      <td>NaN</td>\n",
       "      <td>NaN</td>\n",
       "      <td>NaN</td>\n",
       "      <td>1367.761562</td>\n",
       "      <td>NaN</td>\n",
       "      <td>NaN</td>\n",
       "      <td>NaN</td>\n",
       "      <td>15.816315</td>\n",
       "      <td>NaN</td>\n",
       "      <td>258.690179</td>\n",
       "      <td>2.766549</td>\n",
       "      <td>40.158630</td>\n",
       "      <td>0.576892</td>\n",
       "      <td>NaN</td>\n",
       "      <td>NaN</td>\n",
       "    </tr>\n",
       "    <tr>\n",
       "      <th>std</th>\n",
       "      <td>10.615008</td>\n",
       "      <td>NaN</td>\n",
       "      <td>NaN</td>\n",
       "      <td>NaN</td>\n",
       "      <td>NaN</td>\n",
       "      <td>3041.608766</td>\n",
       "      <td>NaN</td>\n",
       "      <td>NaN</td>\n",
       "      <td>NaN</td>\n",
       "      <td>8.315680</td>\n",
       "      <td>NaN</td>\n",
       "      <td>257.743149</td>\n",
       "      <td>3.099075</td>\n",
       "      <td>100.127123</td>\n",
       "      <td>2.254838</td>\n",
       "      <td>NaN</td>\n",
       "      <td>NaN</td>\n",
       "    </tr>\n",
       "    <tr>\n",
       "      <th>min</th>\n",
       "      <td>18.000000</td>\n",
       "      <td>NaN</td>\n",
       "      <td>NaN</td>\n",
       "      <td>NaN</td>\n",
       "      <td>NaN</td>\n",
       "      <td>-8019.000000</td>\n",
       "      <td>NaN</td>\n",
       "      <td>NaN</td>\n",
       "      <td>NaN</td>\n",
       "      <td>1.000000</td>\n",
       "      <td>NaN</td>\n",
       "      <td>0.000000</td>\n",
       "      <td>1.000000</td>\n",
       "      <td>-1.000000</td>\n",
       "      <td>0.000000</td>\n",
       "      <td>NaN</td>\n",
       "      <td>NaN</td>\n",
       "    </tr>\n",
       "    <tr>\n",
       "      <th>25%</th>\n",
       "      <td>33.000000</td>\n",
       "      <td>NaN</td>\n",
       "      <td>NaN</td>\n",
       "      <td>NaN</td>\n",
       "      <td>NaN</td>\n",
       "      <td>72.000000</td>\n",
       "      <td>NaN</td>\n",
       "      <td>NaN</td>\n",
       "      <td>NaN</td>\n",
       "      <td>8.000000</td>\n",
       "      <td>NaN</td>\n",
       "      <td>103.000000</td>\n",
       "      <td>1.000000</td>\n",
       "      <td>-1.000000</td>\n",
       "      <td>0.000000</td>\n",
       "      <td>NaN</td>\n",
       "      <td>NaN</td>\n",
       "    </tr>\n",
       "    <tr>\n",
       "      <th>50%</th>\n",
       "      <td>39.000000</td>\n",
       "      <td>NaN</td>\n",
       "      <td>NaN</td>\n",
       "      <td>NaN</td>\n",
       "      <td>NaN</td>\n",
       "      <td>448.000000</td>\n",
       "      <td>NaN</td>\n",
       "      <td>NaN</td>\n",
       "      <td>NaN</td>\n",
       "      <td>16.000000</td>\n",
       "      <td>NaN</td>\n",
       "      <td>180.000000</td>\n",
       "      <td>2.000000</td>\n",
       "      <td>-1.000000</td>\n",
       "      <td>0.000000</td>\n",
       "      <td>NaN</td>\n",
       "      <td>NaN</td>\n",
       "    </tr>\n",
       "    <tr>\n",
       "      <th>75%</th>\n",
       "      <td>48.000000</td>\n",
       "      <td>NaN</td>\n",
       "      <td>NaN</td>\n",
       "      <td>NaN</td>\n",
       "      <td>NaN</td>\n",
       "      <td>1431.000000</td>\n",
       "      <td>NaN</td>\n",
       "      <td>NaN</td>\n",
       "      <td>NaN</td>\n",
       "      <td>21.000000</td>\n",
       "      <td>NaN</td>\n",
       "      <td>320.000000</td>\n",
       "      <td>3.000000</td>\n",
       "      <td>-1.000000</td>\n",
       "      <td>0.000000</td>\n",
       "      <td>NaN</td>\n",
       "      <td>NaN</td>\n",
       "    </tr>\n",
       "    <tr>\n",
       "      <th>max</th>\n",
       "      <td>95.000000</td>\n",
       "      <td>NaN</td>\n",
       "      <td>NaN</td>\n",
       "      <td>NaN</td>\n",
       "      <td>NaN</td>\n",
       "      <td>102127.000000</td>\n",
       "      <td>NaN</td>\n",
       "      <td>NaN</td>\n",
       "      <td>NaN</td>\n",
       "      <td>31.000000</td>\n",
       "      <td>NaN</td>\n",
       "      <td>4918.000000</td>\n",
       "      <td>63.000000</td>\n",
       "      <td>871.000000</td>\n",
       "      <td>275.000000</td>\n",
       "      <td>NaN</td>\n",
       "      <td>NaN</td>\n",
       "    </tr>\n",
       "  </tbody>\n",
       "</table>\n",
       "</div>"
      ],
      "text/plain": [
       "                 age          job  marital  education default        balance  \\\n",
       "count   49732.000000        49732    49732      49732   49732   49732.000000   \n",
       "unique           NaN           12        3          4       2            NaN   \n",
       "top              NaN  blue-collar  married  secondary      no            NaN   \n",
       "freq             NaN        10678    30011      25508   48841            NaN   \n",
       "mean       40.957472          NaN      NaN        NaN     NaN    1367.761562   \n",
       "std        10.615008          NaN      NaN        NaN     NaN    3041.608766   \n",
       "min        18.000000          NaN      NaN        NaN     NaN   -8019.000000   \n",
       "25%        33.000000          NaN      NaN        NaN     NaN      72.000000   \n",
       "50%        39.000000          NaN      NaN        NaN     NaN     448.000000   \n",
       "75%        48.000000          NaN      NaN        NaN     NaN    1431.000000   \n",
       "max        95.000000          NaN      NaN        NaN     NaN  102127.000000   \n",
       "\n",
       "       housing   loan   contact           day  month      duration  \\\n",
       "count    49732  49732     49732  49732.000000  49732  49732.000000   \n",
       "unique       2      2         3           NaN     12           NaN   \n",
       "top        yes     no  cellular           NaN    may           NaN   \n",
       "freq     27689  41797     32181           NaN  15164           NaN   \n",
       "mean       NaN    NaN       NaN     15.816315    NaN    258.690179   \n",
       "std        NaN    NaN       NaN      8.315680    NaN    257.743149   \n",
       "min        NaN    NaN       NaN      1.000000    NaN      0.000000   \n",
       "25%        NaN    NaN       NaN      8.000000    NaN    103.000000   \n",
       "50%        NaN    NaN       NaN     16.000000    NaN    180.000000   \n",
       "75%        NaN    NaN       NaN     21.000000    NaN    320.000000   \n",
       "max        NaN    NaN       NaN     31.000000    NaN   4918.000000   \n",
       "\n",
       "            campaign         pdays      previous poutcome      y  \n",
       "count   49732.000000  49732.000000  49732.000000    49732  49732  \n",
       "unique           NaN           NaN           NaN        4      2  \n",
       "top              NaN           NaN           NaN  unknown     no  \n",
       "freq             NaN           NaN           NaN    40664  43922  \n",
       "mean        2.766549     40.158630      0.576892      NaN    NaN  \n",
       "std         3.099075    100.127123      2.254838      NaN    NaN  \n",
       "min         1.000000     -1.000000      0.000000      NaN    NaN  \n",
       "25%         1.000000     -1.000000      0.000000      NaN    NaN  \n",
       "50%         2.000000     -1.000000      0.000000      NaN    NaN  \n",
       "75%         3.000000     -1.000000      0.000000      NaN    NaN  \n",
       "max        63.000000    871.000000    275.000000      NaN    NaN  "
      ]
     },
     "execution_count": 575,
     "metadata": {},
     "output_type": "execute_result"
    }
   ],
   "source": [
    "marketing_data.describe(include=\"all\")"
   ]
  },
  {
   "cell_type": "markdown",
   "id": "ccd9d9d8",
   "metadata": {},
   "source": [
    "- No missing data. \n",
    "- Columns are a mix of numbers and text."
   ]
  },
  {
   "cell_type": "code",
   "execution_count": 576,
   "id": "0c6d69fc",
   "metadata": {},
   "outputs": [
    {
     "data": {
      "image/png": "[encoded data removed]",
      "text/plain": [
       "<Figure size 1000x1000 with 1 Axes>"
      ]
     },
     "metadata": {},
     "output_type": "display_data"
    }
   ],
   "source": [
    "# Age\n",
    "plt.figure(figsize=(10, 10))\n",
    "sns.histplot(data=marketing_data, x='age', hue='y', multiple='stack')\n",
    "plt.title('Age Distribution')\n",
    "plt.xlabel('Age')\n",
    "plt.ylabel('Count')\n",
    "plt.legend(labels=[\"yes\",\"no\"], title = \"Is Suscribed?\")\n",
    "plt.show()"
   ]
  },
  {
   "cell_type": "markdown",
   "id": "b9d47a9a",
   "metadata": {},
   "source": [
    "**Roughly the same distribution of age for people who have subscribed to term deposit and people who hasn't.**"
   ]
  },
  {
   "cell_type": "code",
   "execution_count": 577,
   "id": "408233ab",
   "metadata": {},
   "outputs": [
    {
     "data": {
      "image/png": "[encoded data removed]",
      "text/plain": [
       "<Figure size 1000x1000 with 1 Axes>"
      ]
     },
     "metadata": {},
     "output_type": "display_data"
    }
   ],
   "source": [
    "# Job\n",
    "plt.figure(figsize=(10, 10))\n",
    "sns.histplot(data=marketing_data, x='job', hue='y', multiple='stack')\n",
    "plt.title('Job Distribution')\n",
    "plt.xlabel('Job')\n",
    "plt.ylabel('Count')\n",
    "plt.xticks(rotation=45)\n",
    "plt.legend(labels=[\"yes\",\"no\"], title = \"Is Suscribed?\")\n",
    "plt.show()"
   ]
  },
  {
   "cell_type": "markdown",
   "id": "9fa090a8",
   "metadata": {},
   "source": [
    "**Roughly the same distribution of job for people who have subscribed to term deposit and people who hasn't.**"
   ]
  },
  {
   "cell_type": "code",
   "execution_count": 578,
   "id": "982b7baf",
   "metadata": {},
   "outputs": [
    {
     "data": {
      "image/png": "[encoded data removed]",
      "text/plain": [
       "<Figure size 1000x1000 with 1 Axes>"
      ]
     },
     "metadata": {},
     "output_type": "display_data"
    }
   ],
   "source": [
    "# Marital\n",
    "plt.figure(figsize=(10, 10))\n",
    "sns.histplot(data=marketing_data, x='marital', hue='y', multiple='stack')\n",
    "plt.title('Marital Distribution')\n",
    "plt.xlabel('Marital')\n",
    "plt.ylabel('Count')\n",
    "plt.legend(labels=[\"yes\",\"no\"], title = \"Is Suscribed?\")\n",
    "plt.show()"
   ]
  },
  {
   "cell_type": "markdown",
   "id": "8599f582",
   "metadata": {},
   "source": [
    "**Roughly the same distribution of marital for people who have subscribed to term deposit and people who hasn't.  \n",
    "Most calls were made to married people.**"
   ]
  },
  {
   "cell_type": "code",
   "execution_count": 579,
   "id": "6fd59434",
   "metadata": {},
   "outputs": [
    {
     "data": {
      "image/png": "[encoded data removed]",
      "text/plain": [
       "<Figure size 1000x1000 with 1 Axes>"
      ]
     },
     "metadata": {},
     "output_type": "display_data"
    }
   ],
   "source": [
    "# Education\n",
    "education_order = ['primary', 'secondary', 'tertiary', 'unknown']\n",
    "# The lambda function in sort_values takes the column education as \"x\", so to this column we apply another lambda function to order according to the index in the list.\n",
    "marketing_data_ordered_by_education = marketing_data.sort_values(by='education', key=lambda x: x.apply(lambda y: education_order.index(y)))\n",
    "\n",
    "plt.figure(figsize=(10, 10))\n",
    "sns.histplot(data=marketing_data_ordered_by_education, x='education', hue='y', multiple='stack')\n",
    "plt.title('Education Distribution')\n",
    "plt.xlabel('Education')\n",
    "plt.ylabel('Count')\n",
    "plt.legend(labels=[\"yes\",\"no\"], title = \"Is Suscribed?\")\n",
    "plt.show()"
   ]
  },
  {
   "cell_type": "markdown",
   "id": "2174ba99",
   "metadata": {},
   "source": [
    "**Roughly the same distribution of education for people who have subscribed to term deposit and people who hasn't.**"
   ]
  },
  {
   "cell_type": "code",
   "execution_count": 580,
   "id": "c246048e",
   "metadata": {},
   "outputs": [
    {
     "data": {
      "image/png": "[encoded data removed]",
      "text/plain": [
       "<Figure size 1000x1000 with 1 Axes>"
      ]
     },
     "metadata": {},
     "output_type": "display_data"
    }
   ],
   "source": [
    "# Default\n",
    "plt.figure(figsize=(10, 10))\n",
    "sns.histplot(data=marketing_data, x='default', hue='y', multiple='stack')\n",
    "plt.title('Default Distribution')\n",
    "plt.xlabel('Default')\n",
    "plt.ylabel('Count')\n",
    "plt.legend(labels=[\"yes\",\"no\"], title = \"Is Suscribed?\")\n",
    "plt.show()"
   ]
  },
  {
   "cell_type": "markdown",
   "id": "f3777a42",
   "metadata": {},
   "source": [
    "**A higher proportion of people subscribed to a term deposit is observed in people without credit on default.**"
   ]
  },
  {
   "cell_type": "code",
   "execution_count": 581,
   "id": "9789d0c3",
   "metadata": {},
   "outputs": [
    {
     "data": {
      "image/png": "[encoded data removed]",
      "text/plain": [
       "<Figure size 1000x1000 with 1 Axes>"
      ]
     },
     "metadata": {},
     "output_type": "display_data"
    }
   ],
   "source": [
    "# Balance\n",
    "plt.figure(figsize=(10, 10))\n",
    "sns.histplot(data=marketing_data, x='balance', hue='y', multiple='stack', bins=50)\n",
    "plt.title('Balance Distribution')\n",
    "plt.xlabel('Balance')\n",
    "plt.ylabel('Count')\n",
    "plt.legend(labels=[\"yes\",\"no\"], title = \"Is Suscribed?\")\n",
    "plt.show()"
   ]
  },
  {
   "cell_type": "markdown",
   "id": "0b31cbce",
   "metadata": {},
   "source": [
    "**Roughly the same distribution of balance for people who have subscribed to term deposit and people who hasn't.**"
   ]
  },
  {
   "cell_type": "code",
   "execution_count": 582,
   "id": "fc582c81",
   "metadata": {},
   "outputs": [
    {
     "data": {
      "image/png": "[encoded data removed]",
      "text/plain": [
       "<Figure size 1000x1000 with 1 Axes>"
      ]
     },
     "metadata": {},
     "output_type": "display_data"
    }
   ],
   "source": [
    "# Housing\n",
    "plt.figure(figsize=(10, 10))\n",
    "sns.histplot(data=marketing_data, x='housing', hue='y', multiple='stack')\n",
    "plt.title('Housing Distribution')\n",
    "plt.xlabel('Housing')\n",
    "plt.ylabel('Count')\n",
    "plt.legend(labels=[\"yes\",\"no\"], title = \"Is Suscribed?\")\n",
    "plt.show()"
   ]
  },
  {
   "cell_type": "markdown",
   "id": "4fc6d2ab",
   "metadata": {},
   "source": [
    "**Slightly higher proportion of people who accepted the term deposit on people without a house loan**"
   ]
  },
  {
   "cell_type": "code",
   "execution_count": 583,
   "id": "a02ed9cc",
   "metadata": {},
   "outputs": [
    {
     "data": {
      "image/png": "[encoded data removed]",
      "text/plain": [
       "<Figure size 1000x1000 with 1 Axes>"
      ]
     },
     "metadata": {},
     "output_type": "display_data"
    }
   ],
   "source": [
    "# Loan\n",
    "plt.figure(figsize=(10, 10))\n",
    "sns.histplot(data=marketing_data, x='loan', hue='y', multiple='stack')\n",
    "plt.title('Loan Distribution')\n",
    "plt.xlabel('Loan')\n",
    "plt.ylabel('Count')\n",
    "plt.legend(labels=[\"yes\",\"no\"], title = \"Is Suscribed?\")\n",
    "plt.show()"
   ]
  },
  {
   "cell_type": "markdown",
   "id": "2b9181ad",
   "metadata": {},
   "source": [
    "**Roughly the same distribution of people with and without a loan for people who have subscribed to term deposit and people who hasn't.**"
   ]
  },
  {
   "cell_type": "code",
   "execution_count": 584,
   "id": "f1cedc91",
   "metadata": {},
   "outputs": [
    {
     "data": {
      "image/png": "[encoded data removed]",
      "text/plain": [
       "<Figure size 1000x1000 with 1 Axes>"
      ]
     },
     "metadata": {},
     "output_type": "display_data"
    }
   ],
   "source": [
    "# Contact\n",
    "plt.figure(figsize=(10, 10))\n",
    "sns.histplot(data=marketing_data, x='contact', hue='y', multiple='stack')\n",
    "plt.title('Contact Distribution')\n",
    "plt.xlabel('Contact')\n",
    "plt.ylabel('Count')\n",
    "plt.legend(labels=[\"yes\",\"no\"], title = \"Is Suscribed?\")\n",
    "plt.show()"
   ]
  },
  {
   "cell_type": "markdown",
   "id": "af9aa03f",
   "metadata": {},
   "source": [
    "**Roughly the same distribution for contact method for people who have subscribed to term deposit and people who hasn't.**"
   ]
  },
  {
   "cell_type": "code",
   "execution_count": 585,
   "id": "077cb77d",
   "metadata": {},
   "outputs": [
    {
     "data": {
      "image/png": "[encoded data removed]",
      "text/plain": [
       "<Figure size 1000x1000 with 1 Axes>"
      ]
     },
     "metadata": {},
     "output_type": "display_data"
    }
   ],
   "source": [
    "# Day\n",
    "plt.figure(figsize=(10, 10))\n",
    "sns.histplot(data=marketing_data, x='day', hue='y', multiple='stack')\n",
    "plt.title('Day Distribution')\n",
    "plt.xlabel('Day')\n",
    "plt.ylabel('Count')\n",
    "plt.legend(labels=[\"yes\",\"no\"], title = \"Is Suscribed?\")\n",
    "plt.show()"
   ]
  },
  {
   "cell_type": "markdown",
   "id": "3bdbb115",
   "metadata": {},
   "source": [
    "**Roughly the same distribution of contact day for people who have subscribed to term deposit and people who hasn't.**"
   ]
  },
  {
   "cell_type": "code",
   "execution_count": 586,
   "id": "3ce261fe",
   "metadata": {},
   "outputs": [
    {
     "data": {
      "image/png": "[encoded data removed]",
      "text/plain": [
       "<Figure size 1000x1000 with 1 Axes>"
      ]
     },
     "metadata": {},
     "output_type": "display_data"
    }
   ],
   "source": [
    "# Month\n",
    "month_order = ['jan', 'feb', 'mar', 'apr', 'may', 'jun', 'jul', 'aug', 'sep', 'oct', 'nov', 'dec']\n",
    "# Explanation of the line below: \n",
    "# The lambda function in sort_values takes the column month as \"x\", so to this column we apply another lambda function to order according to the index in the list.\n",
    "marketing_data_ordered_by_month = marketing_data.sort_values(by='month', key=lambda x: x.apply(lambda y: month_order.index(y)))\n",
    "\n",
    "\n",
    "plt.figure(figsize=(10, 10))\n",
    "sns.histplot(data=marketing_data_ordered_by_month, x='month', hue='y', multiple='stack')\n",
    "plt.title('Month Distribution')\n",
    "plt.xlabel('Month')\n",
    "plt.ylabel('Count')\n",
    "plt.legend(labels=[\"yes\",\"no\"], title = \"Is Suscribed?\")\n",
    "plt.show()"
   ]
  },
  {
   "cell_type": "markdown",
   "id": "a3501d1a",
   "metadata": {},
   "source": [
    "**Roughly the same distribution of contact month for people who have subscribed to term deposit and people who hasn't.**"
   ]
  },
  {
   "cell_type": "code",
   "execution_count": 587,
   "id": "f23f1998",
   "metadata": {},
   "outputs": [
    {
     "data": {
      "image/png": "[encoded data removed]",
      "text/plain": [
       "<Figure size 1000x1000 with 1 Axes>"
      ]
     },
     "metadata": {},
     "output_type": "display_data"
    }
   ],
   "source": [
    "# Duration\n",
    "plt.figure(figsize=(10, 10))\n",
    "sns.histplot(data=marketing_data, x='duration', hue='y', multiple='stack')\n",
    "plt.title('Duration Distribution')\n",
    "plt.xlabel('Duration')\n",
    "plt.ylabel('Count')\n",
    "plt.legend(labels=[\"yes\",\"no\"], title = \"Is Suscribed?\")\n",
    "plt.show()"
   ]
  },
  {
   "cell_type": "markdown",
   "id": "a1495839",
   "metadata": {},
   "source": [
    "**Roughly the same distribution of call duration for people who have subscribed to term deposit and people who hasn't.**"
   ]
  },
  {
   "cell_type": "code",
   "execution_count": 588,
   "id": "2d9fd8b1",
   "metadata": {},
   "outputs": [
    {
     "data": {
      "image/png": "[encoded data removed]",
      "text/plain": [
       "<Figure size 1000x1000 with 1 Axes>"
      ]
     },
     "metadata": {},
     "output_type": "display_data"
    }
   ],
   "source": [
    "# Campaign\n",
    "plt.figure(figsize=(10, 10))\n",
    "sns.histplot(data=marketing_data, x='campaign', hue='y', multiple='stack', bins=15)\n",
    "plt.title('Campaign Distribution')\n",
    "plt.xlabel('Campaign')\n",
    "plt.ylabel('Count')\n",
    "plt.legend(labels=[\"yes\",\"no\"], title = \"Is Suscribed?\")\n",
    "plt.show()"
   ]
  },
  {
   "cell_type": "markdown",
   "id": "eeb1fd80",
   "metadata": {},
   "source": [
    "**Roughly the same distribution of the number of contact for people who have subscribed to term deposit and people who hasn't.**  \n",
    "**It doesn't seem to be a benefit for incireasing the number of contacts.**"
   ]
  },
  {
   "cell_type": "code",
   "execution_count": 589,
   "id": "502ffad2",
   "metadata": {},
   "outputs": [
    {
     "data": {
      "image/png": "[encoded data removed]",
      "text/plain": [
       "<Figure size 1000x1000 with 1 Axes>"
      ]
     },
     "metadata": {},
     "output_type": "display_data"
    }
   ],
   "source": [
    "# pdays\n",
    "plt.figure(figsize=(10, 10))\n",
    "sns.histplot(data=marketing_data, x='pdays', hue='y', multiple='stack')\n",
    "plt.title('Past Days Distribution')\n",
    "plt.xlabel('Past Days')\n",
    "plt.ylabel('Count')\n",
    "plt.legend(labels=[\"yes\",\"no\"], title = \"Is Suscribed?\")\n",
    "plt.show()"
   ]
  },
  {
   "cell_type": "markdown",
   "id": "c868c51e",
   "metadata": {},
   "source": [
    "**Roughly the same distribution for the number of days of last contact for people who have subscribed to term deposit and people who hasn't.** "
   ]
  },
  {
   "cell_type": "code",
   "execution_count": 590,
   "id": "158b3cee",
   "metadata": {},
   "outputs": [
    {
     "data": {
      "image/png": "[encoded data removed]",
      "text/plain": [
       "<Figure size 1000x1000 with 1 Axes>"
      ]
     },
     "metadata": {},
     "output_type": "display_data"
    }
   ],
   "source": [
    "# previous\n",
    "plt.figure(figsize=(10, 10))\n",
    "sns.histplot(data=marketing_data, x='previous', hue='y', multiple='stack', bins=100)\n",
    "plt.title('Previous Contacts Distribution')\n",
    "plt.xlabel('Previous Contacts')\n",
    "plt.ylabel('Count')\n",
    "plt.legend(labels=[\"yes\",\"no\"], title = \"Is Suscribed?\")\n",
    "plt.show()"
   ]
  },
  {
   "cell_type": "markdown",
   "id": "7d759105",
   "metadata": {},
   "source": [
    "**Roughly the same distribution for the number of previous contacts for people who have subscribed to term deposit and people who hasn't.** \n",
    "**Doesn't seem to be much benefit in contacting same people again.**"
   ]
  },
  {
   "cell_type": "code",
   "execution_count": 591,
   "id": "68342071",
   "metadata": {},
   "outputs": [
    {
     "data": {
      "image/png": "[encoded data removed]",
      "text/plain": [
       "<Figure size 1000x1000 with 1 Axes>"
      ]
     },
     "metadata": {},
     "output_type": "display_data"
    }
   ],
   "source": [
    "# poutcome\n",
    "plt.figure(figsize=(10, 10))\n",
    "sns.histplot(data=marketing_data, x='poutcome', hue='y', multiple='stack', bins=100)\n",
    "plt.title('Previous Campaign Success Distribution')\n",
    "plt.xlabel('Campaign Success')\n",
    "plt.ylabel('Count')\n",
    "plt.legend(labels=[\"yes\",\"no\"], title = \"Is Suscribed?\")\n",
    "plt.show()"
   ]
  },
  {
   "cell_type": "markdown",
   "id": "41593dda",
   "metadata": {},
   "source": [
    "**Roughly the same distribution for the number of previous contacts for people who have subscribed to term deposit and people who hasn't.** \n",
    "**Previous campaign success cases, seem to have a higher success rate, which means contacting clients that took term deposits before could be beneficial.**"
   ]
  },
  {
   "cell_type": "markdown",
   "id": "19f866d2",
   "metadata": {},
   "source": [
    "### Correlation Matrix"
   ]
  },
  {
   "cell_type": "code",
   "execution_count": 592,
   "id": "bea0e8bc",
   "metadata": {},
   "outputs": [
    {
     "data": {
      "image/png": "[encoded data removed]",
      "text/plain": [
       "<Figure size 1000x1000 with 2 Axes>"
      ]
     },
     "metadata": {},
     "output_type": "display_data"
    }
   ],
   "source": [
    "# Constructing heat map\n",
    "correlation = marketing_data.corr(numeric_only=True)\n",
    "plt.figure(figsize=(10,10))\n",
    "sns.heatmap(correlation, cbar=True, square=True, fmt='.1f', annot=True, annot_kws={'size': 8}, cmap='Blues' )\n",
    "plt.show()"
   ]
  },
  {
   "cell_type": "markdown",
   "id": "28941330",
   "metadata": {},
   "source": [
    "**No strong correlation between numeric columns**"
   ]
  },
  {
   "cell_type": "markdown",
   "id": "1b76301a",
   "metadata": {},
   "source": [
    "## Distribution of target variable"
   ]
  },
  {
   "cell_type": "code",
   "execution_count": 593,
   "id": "152b9ea2",
   "metadata": {},
   "outputs": [
    {
     "data": {
      "image/png": "[encoded data removed]",
      "text/plain": [
       "<Figure size 1000x1000 with 1 Axes>"
      ]
     },
     "metadata": {},
     "output_type": "display_data"
    }
   ],
   "source": [
    "plt.figure(figsize=(10, 10))\n",
    "sns.histplot(data=marketing_data, x='y', multiple='stack')\n",
    "plt.title('Target Variable Distribution')\n",
    "plt.xlabel('Has succeded? (Y)')\n",
    "plt.ylabel('Count')\n",
    "plt.show()"
   ]
  },
  {
   "cell_type": "markdown",
   "id": "af3ec82f",
   "metadata": {},
   "source": [
    "**There are a lot more clients that didn't subscribed to a term deposit**"
   ]
  },
  {
   "cell_type": "code",
   "execution_count": 594,
   "id": "13eee954",
   "metadata": {},
   "outputs": [
    {
     "data": {
      "text/plain": [
       "no     43922\n",
       "yes     5810\n",
       "Name: y, dtype: int64"
      ]
     },
     "execution_count": 594,
     "metadata": {},
     "output_type": "execute_result"
    }
   ],
   "source": [
    "# Checking the numbers on the distribution\n",
    "marketing_data['y'].value_counts()"
   ]
  },
  {
   "cell_type": "markdown",
   "id": "db5ab2b5",
   "metadata": {},
   "source": [
    "## General Insights\n",
    "- A higher proportion of people subscribed to a term deposit is observed in people without credit on default.\n",
    "- Slightly higher proportion of people who accepted the term deposit on people without a house loan.\n",
    "- Doesn't seem to be much benefit in contacting people who didn't take the term deposit before again.\n",
    "- Previous campaign success cases, seem to have a higher success rate, which means contacting clients that took term deposits before could be beneficial.\n",
    "- There is a big imbalance on the ratio of people who took and didn't take the term deposit."
   ]
  },
  {
   "cell_type": "markdown",
   "id": "7824000a",
   "metadata": {},
   "source": [
    "## Data Pre-Processing"
   ]
  },
  {
   "cell_type": "code",
   "execution_count": 595,
   "id": "786f4492",
   "metadata": {},
   "outputs": [
    {
     "name": "stdout",
     "output_type": "stream",
     "text": [
      "blue-collar      10678\n",
      "management       10427\n",
      "technician        8365\n",
      "admin.            5649\n",
      "services          4571\n",
      "retired           2494\n",
      "self-employed     1762\n",
      "entrepreneur      1655\n",
      "unemployed        1431\n",
      "housemaid         1352\n",
      "student           1022\n",
      "unknown            326\n",
      "Name: job, dtype: int64\n",
      "----------------------------------------------------------------------------------------------------\n",
      "married     30011\n",
      "single      13986\n",
      "divorced     5735\n",
      "Name: marital, dtype: int64\n",
      "----------------------------------------------------------------------------------------------------\n",
      "secondary    25508\n",
      "tertiary     14651\n",
      "primary       7529\n",
      "unknown       2044\n",
      "Name: education, dtype: int64\n",
      "----------------------------------------------------------------------------------------------------\n",
      "no     48841\n",
      "yes      891\n",
      "Name: default, dtype: int64\n",
      "----------------------------------------------------------------------------------------------------\n",
      "yes    27689\n",
      "no     22043\n",
      "Name: housing, dtype: int64\n",
      "----------------------------------------------------------------------------------------------------\n",
      "no     41797\n",
      "yes     7935\n",
      "Name: loan, dtype: int64\n",
      "----------------------------------------------------------------------------------------------------\n",
      "cellular     32181\n",
      "unknown      14344\n",
      "telephone     3207\n",
      "Name: contact, dtype: int64\n",
      "----------------------------------------------------------------------------------------------------\n",
      "may    15164\n",
      "jul     7601\n",
      "aug     6880\n",
      "jun     5872\n",
      "nov     4359\n",
      "apr     3225\n",
      "feb     2871\n",
      "jan     1551\n",
      "oct      818\n",
      "sep      631\n",
      "mar      526\n",
      "dec      234\n",
      "Name: month, dtype: int64\n",
      "----------------------------------------------------------------------------------------------------\n",
      "unknown    40664\n",
      "failure     5391\n",
      "other       2037\n",
      "success     1640\n",
      "Name: poutcome, dtype: int64\n",
      "----------------------------------------------------------------------------------------------------\n",
      "no     43922\n",
      "yes     5810\n",
      "Name: y, dtype: int64\n",
      "----------------------------------------------------------------------------------------------------\n"
     ]
    }
   ],
   "source": [
    "# Checking the diferent categories in text columns\n",
    "for column in marketing_data.select_dtypes(include=\"object\"):\n",
    "    print(marketing_data[column].value_counts())\n",
    "    print('-'*100)"
   ]
  },
  {
   "cell_type": "code",
   "execution_count": 596,
   "id": "189dfa92",
   "metadata": {},
   "outputs": [],
   "source": [
    "# Separating text and numbers\n",
    "marketing_data_numbers = marketing_data.select_dtypes(include='number')\n",
    "marketing_data_text = marketing_data.select_dtypes(include='object')"
   ]
  },
  {
   "cell_type": "code",
   "execution_count": 597,
   "id": "4cc68b5c",
   "metadata": {},
   "outputs": [
    {
     "name": "stdout",
     "output_type": "stream",
     "text": [
      "(49732, 7) (49732, 10)\n"
     ]
    }
   ],
   "source": [
    "print(marketing_data_numbers.shape, marketing_data_text.shape)"
   ]
  },
  {
   "cell_type": "code",
   "execution_count": 598,
   "id": "3641b6da",
   "metadata": {},
   "outputs": [
    {
     "data": {
      "text/html": [
       "<div>\n",
       "<style scoped>\n",
       "    .dataframe tbody tr th:only-of-type {\n",
       "        vertical-align: middle;\n",
       "    }\n",
       "\n",
       "    .dataframe tbody tr th {\n",
       "        vertical-align: top;\n",
       "    }\n",
       "\n",
       "    .dataframe thead th {\n",
       "        text-align: right;\n",
       "    }\n",
       "</style>\n",
       "<table border=\"1\" class=\"dataframe\">\n",
       "  <thead>\n",
       "    <tr style=\"text-align: right;\">\n",
       "      <th></th>\n",
       "      <th>age</th>\n",
       "      <th>balance</th>\n",
       "      <th>day</th>\n",
       "      <th>duration</th>\n",
       "      <th>campaign</th>\n",
       "      <th>pdays</th>\n",
       "      <th>previous</th>\n",
       "    </tr>\n",
       "  </thead>\n",
       "  <tbody>\n",
       "    <tr>\n",
       "      <th>0</th>\n",
       "      <td>58</td>\n",
       "      <td>2143</td>\n",
       "      <td>5</td>\n",
       "      <td>261</td>\n",
       "      <td>1</td>\n",
       "      <td>-1</td>\n",
       "      <td>0</td>\n",
       "    </tr>\n",
       "    <tr>\n",
       "      <th>1</th>\n",
       "      <td>44</td>\n",
       "      <td>29</td>\n",
       "      <td>5</td>\n",
       "      <td>151</td>\n",
       "      <td>1</td>\n",
       "      <td>-1</td>\n",
       "      <td>0</td>\n",
       "    </tr>\n",
       "    <tr>\n",
       "      <th>2</th>\n",
       "      <td>33</td>\n",
       "      <td>2</td>\n",
       "      <td>5</td>\n",
       "      <td>76</td>\n",
       "      <td>1</td>\n",
       "      <td>-1</td>\n",
       "      <td>0</td>\n",
       "    </tr>\n",
       "    <tr>\n",
       "      <th>3</th>\n",
       "      <td>47</td>\n",
       "      <td>1506</td>\n",
       "      <td>5</td>\n",
       "      <td>92</td>\n",
       "      <td>1</td>\n",
       "      <td>-1</td>\n",
       "      <td>0</td>\n",
       "    </tr>\n",
       "    <tr>\n",
       "      <th>4</th>\n",
       "      <td>33</td>\n",
       "      <td>1</td>\n",
       "      <td>5</td>\n",
       "      <td>198</td>\n",
       "      <td>1</td>\n",
       "      <td>-1</td>\n",
       "      <td>0</td>\n",
       "    </tr>\n",
       "  </tbody>\n",
       "</table>\n",
       "</div>"
      ],
      "text/plain": [
       "   age  balance  day  duration  campaign  pdays  previous\n",
       "0   58     2143    5       261         1     -1         0\n",
       "1   44       29    5       151         1     -1         0\n",
       "2   33        2    5        76         1     -1         0\n",
       "3   47     1506    5        92         1     -1         0\n",
       "4   33        1    5       198         1     -1         0"
      ]
     },
     "execution_count": 598,
     "metadata": {},
     "output_type": "execute_result"
    }
   ],
   "source": [
    "marketing_data_numbers.head()"
   ]
  },
  {
   "cell_type": "code",
   "execution_count": 599,
   "id": "ccca0010",
   "metadata": {},
   "outputs": [
    {
     "data": {
      "text/html": [
       "<div>\n",
       "<style scoped>\n",
       "    .dataframe tbody tr th:only-of-type {\n",
       "        vertical-align: middle;\n",
       "    }\n",
       "\n",
       "    .dataframe tbody tr th {\n",
       "        vertical-align: top;\n",
       "    }\n",
       "\n",
       "    .dataframe thead th {\n",
       "        text-align: right;\n",
       "    }\n",
       "</style>\n",
       "<table border=\"1\" class=\"dataframe\">\n",
       "  <thead>\n",
       "    <tr style=\"text-align: right;\">\n",
       "      <th></th>\n",
       "      <th>job</th>\n",
       "      <th>marital</th>\n",
       "      <th>education</th>\n",
       "      <th>default</th>\n",
       "      <th>housing</th>\n",
       "      <th>loan</th>\n",
       "      <th>contact</th>\n",
       "      <th>month</th>\n",
       "      <th>poutcome</th>\n",
       "      <th>y</th>\n",
       "    </tr>\n",
       "  </thead>\n",
       "  <tbody>\n",
       "    <tr>\n",
       "      <th>0</th>\n",
       "      <td>management</td>\n",
       "      <td>married</td>\n",
       "      <td>tertiary</td>\n",
       "      <td>no</td>\n",
       "      <td>yes</td>\n",
       "      <td>no</td>\n",
       "      <td>unknown</td>\n",
       "      <td>may</td>\n",
       "      <td>unknown</td>\n",
       "      <td>no</td>\n",
       "    </tr>\n",
       "    <tr>\n",
       "      <th>1</th>\n",
       "      <td>technician</td>\n",
       "      <td>single</td>\n",
       "      <td>secondary</td>\n",
       "      <td>no</td>\n",
       "      <td>yes</td>\n",
       "      <td>no</td>\n",
       "      <td>unknown</td>\n",
       "      <td>may</td>\n",
       "      <td>unknown</td>\n",
       "      <td>no</td>\n",
       "    </tr>\n",
       "    <tr>\n",
       "      <th>2</th>\n",
       "      <td>entrepreneur</td>\n",
       "      <td>married</td>\n",
       "      <td>secondary</td>\n",
       "      <td>no</td>\n",
       "      <td>yes</td>\n",
       "      <td>yes</td>\n",
       "      <td>unknown</td>\n",
       "      <td>may</td>\n",
       "      <td>unknown</td>\n",
       "      <td>no</td>\n",
       "    </tr>\n",
       "    <tr>\n",
       "      <th>3</th>\n",
       "      <td>blue-collar</td>\n",
       "      <td>married</td>\n",
       "      <td>unknown</td>\n",
       "      <td>no</td>\n",
       "      <td>yes</td>\n",
       "      <td>no</td>\n",
       "      <td>unknown</td>\n",
       "      <td>may</td>\n",
       "      <td>unknown</td>\n",
       "      <td>no</td>\n",
       "    </tr>\n",
       "    <tr>\n",
       "      <th>4</th>\n",
       "      <td>unknown</td>\n",
       "      <td>single</td>\n",
       "      <td>unknown</td>\n",
       "      <td>no</td>\n",
       "      <td>no</td>\n",
       "      <td>no</td>\n",
       "      <td>unknown</td>\n",
       "      <td>may</td>\n",
       "      <td>unknown</td>\n",
       "      <td>no</td>\n",
       "    </tr>\n",
       "  </tbody>\n",
       "</table>\n",
       "</div>"
      ],
      "text/plain": [
       "            job  marital  education default housing loan  contact month  \\\n",
       "0    management  married   tertiary      no     yes   no  unknown   may   \n",
       "1    technician   single  secondary      no     yes   no  unknown   may   \n",
       "2  entrepreneur  married  secondary      no     yes  yes  unknown   may   \n",
       "3   blue-collar  married    unknown      no     yes   no  unknown   may   \n",
       "4       unknown   single    unknown      no      no   no  unknown   may   \n",
       "\n",
       "  poutcome   y  \n",
       "0  unknown  no  \n",
       "1  unknown  no  \n",
       "2  unknown  no  \n",
       "3  unknown  no  \n",
       "4  unknown  no  "
      ]
     },
     "execution_count": 599,
     "metadata": {},
     "output_type": "execute_result"
    }
   ],
   "source": [
    "marketing_data_text.head()"
   ]
  },
  {
   "cell_type": "markdown",
   "id": "21c3a2d2",
   "metadata": {},
   "source": [
    "### Number processing"
   ]
  },
  {
   "cell_type": "markdown",
   "id": "9ea2166c",
   "metadata": {},
   "source": [
    "For numbers StandardEncoder will be used"
   ]
  },
  {
   "cell_type": "code",
   "execution_count": 600,
   "id": "b67601b5",
   "metadata": {},
   "outputs": [],
   "source": [
    "numbers_scaler = StandardScaler() "
   ]
  },
  {
   "cell_type": "code",
   "execution_count": 601,
   "id": "2873656c",
   "metadata": {},
   "outputs": [
    {
     "data": {
      "text/html": [
       "<style>#sk-container-id-15 {color: black;background-color: white;}#sk-container-id-15 pre{padding: 0;}#sk-container-id-15 div.sk-toggleable {background-color: white;}#sk-container-id-15 label.sk-toggleable__label {cursor: pointer;display: block;width: 100%;margin-bottom: 0;padding: 0.3em;box-sizing: border-box;text-align: center;}#sk-container-id-15 label.sk-toggleable__label-arrow:before {content: \"▸\";float: left;margin-right: 0.25em;color: #696969;}#sk-container-id-15 label.sk-toggleable__label-arrow:hover:before {color: black;}#sk-container-id-15 div.sk-estimator:hover label.sk-toggleable__label-arrow:before {color: black;}#sk-container-id-15 div.sk-toggleable__content {max-height: 0;max-width: 0;overflow: hidden;text-align: left;background-color: #f0f8ff;}#sk-container-id-15 div.sk-toggleable__content pre {margin: 0.2em;color: black;border-radius: 0.25em;background-color: #f0f8ff;}#sk-container-id-15 input.sk-toggleable__control:checked~div.sk-toggleable__content {max-height: 200px;max-width: 100%;overflow: auto;}#sk-container-id-15 input.sk-toggleable__control:checked~label.sk-toggleable__label-arrow:before {content: \"▾\";}#sk-container-id-15 div.sk-estimator input.sk-toggleable__control:checked~label.sk-toggleable__label {background-color: #d4ebff;}#sk-container-id-15 div.sk-label input.sk-toggleable__control:checked~label.sk-toggleable__label {background-color: #d4ebff;}#sk-container-id-15 input.sk-hidden--visually {border: 0;clip: rect(1px 1px 1px 1px);clip: rect(1px, 1px, 1px, 1px);height: 1px;margin: -1px;overflow: hidden;padding: 0;position: absolute;width: 1px;}#sk-container-id-15 div.sk-estimator {font-family: monospace;background-color: #f0f8ff;border: 1px dotted black;border-radius: 0.25em;box-sizing: border-box;margin-bottom: 0.5em;}#sk-container-id-15 div.sk-estimator:hover {background-color: #d4ebff;}#sk-container-id-15 div.sk-parallel-item::after {content: \"\";width: 100%;border-bottom: 1px solid gray;flex-grow: 1;}#sk-container-id-15 div.sk-label:hover label.sk-toggleable__label {background-color: #d4ebff;}#sk-container-id-15 div.sk-serial::before {content: \"\";position: absolute;border-left: 1px solid gray;box-sizing: border-box;top: 0;bottom: 0;left: 50%;z-index: 0;}#sk-container-id-15 div.sk-serial {display: flex;flex-direction: column;align-items: center;background-color: white;padding-right: 0.2em;padding-left: 0.2em;position: relative;}#sk-container-id-15 div.sk-item {position: relative;z-index: 1;}#sk-container-id-15 div.sk-parallel {display: flex;align-items: stretch;justify-content: center;background-color: white;position: relative;}#sk-container-id-15 div.sk-item::before, #sk-container-id-15 div.sk-parallel-item::before {content: \"\";position: absolute;border-left: 1px solid gray;box-sizing: border-box;top: 0;bottom: 0;left: 50%;z-index: -1;}#sk-container-id-15 div.sk-parallel-item {display: flex;flex-direction: column;z-index: 1;position: relative;background-color: white;}#sk-container-id-15 div.sk-parallel-item:first-child::after {align-self: flex-end;width: 50%;}#sk-container-id-15 div.sk-parallel-item:last-child::after {align-self: flex-start;width: 50%;}#sk-container-id-15 div.sk-parallel-item:only-child::after {width: 0;}#sk-container-id-15 div.sk-dashed-wrapped {border: 1px dashed gray;margin: 0 0.4em 0.5em 0.4em;box-sizing: border-box;padding-bottom: 0.4em;background-color: white;}#sk-container-id-15 div.sk-label label {font-family: monospace;font-weight: bold;display: inline-block;line-height: 1.2em;}#sk-container-id-15 div.sk-label-container {text-align: center;}#sk-container-id-15 div.sk-container {/* jupyter's `normalize.less` sets `[hidden] { display: none; }` but bootstrap.min.css set `[hidden] { display: none !important; }` so we also need the `!important` here to be able to override the default hidden behavior on the sphinx rendered scikit-learn.org. See: https://github.com/scikit-learn/scikit-learn/issues/21755 */display: inline-block !important;position: relative;}#sk-container-id-15 div.sk-text-repr-fallback {display: none;}</style><div id=\"sk-container-id-15\" class=\"sk-top-container\"><div class=\"sk-text-repr-fallback\"><pre>StandardScaler()</pre><b>In a Jupyter environment, please rerun this cell to show the HTML representation or trust the notebook. <br />On GitHub, the HTML representation is unable to render, please try loading this page with nbviewer.org.</b></div><div class=\"sk-container\" hidden><div class=\"sk-item\"><div class=\"sk-estimator sk-toggleable\"><input class=\"sk-toggleable__control sk-hidden--visually\" id=\"sk-estimator-id-15\" type=\"checkbox\" checked><label for=\"sk-estimator-id-15\" class=\"sk-toggleable__label sk-toggleable__label-arrow\">StandardScaler</label><div class=\"sk-toggleable__content\"><pre>StandardScaler()</pre></div></div></div></div></div>"
      ],
      "text/plain": [
       "StandardScaler()"
      ]
     },
     "execution_count": 601,
     "metadata": {},
     "output_type": "execute_result"
    }
   ],
   "source": [
    "numbers_scaler.fit(marketing_data_numbers)"
   ]
  },
  {
   "cell_type": "code",
   "execution_count": 602,
   "id": "70a0021c",
   "metadata": {},
   "outputs": [],
   "source": [
    "marketing_data_numbers_scaled = pd.DataFrame(data=numbers_scaler.transform(marketing_data_numbers), columns=marketing_data_numbers.columns)"
   ]
  },
  {
   "cell_type": "code",
   "execution_count": 603,
   "id": "3e7995b8",
   "metadata": {},
   "outputs": [
    {
     "data": {
      "text/html": [
       "<div>\n",
       "<style scoped>\n",
       "    .dataframe tbody tr th:only-of-type {\n",
       "        vertical-align: middle;\n",
       "    }\n",
       "\n",
       "    .dataframe tbody tr th {\n",
       "        vertical-align: top;\n",
       "    }\n",
       "\n",
       "    .dataframe thead th {\n",
       "        text-align: right;\n",
       "    }\n",
       "</style>\n",
       "<table border=\"1\" class=\"dataframe\">\n",
       "  <thead>\n",
       "    <tr style=\"text-align: right;\">\n",
       "      <th></th>\n",
       "      <th>age</th>\n",
       "      <th>balance</th>\n",
       "      <th>day</th>\n",
       "      <th>duration</th>\n",
       "      <th>campaign</th>\n",
       "      <th>pdays</th>\n",
       "      <th>previous</th>\n",
       "    </tr>\n",
       "  </thead>\n",
       "  <tbody>\n",
       "    <tr>\n",
       "      <th>0</th>\n",
       "      <td>1.605529</td>\n",
       "      <td>0.254880</td>\n",
       "      <td>-1.300726</td>\n",
       "      <td>0.008962</td>\n",
       "      <td>-0.57003</td>\n",
       "      <td>-0.411068</td>\n",
       "      <td>-0.255849</td>\n",
       "    </tr>\n",
       "    <tr>\n",
       "      <th>1</th>\n",
       "      <td>0.286628</td>\n",
       "      <td>-0.440154</td>\n",
       "      <td>-1.300726</td>\n",
       "      <td>-0.417824</td>\n",
       "      <td>-0.57003</td>\n",
       "      <td>-0.411068</td>\n",
       "      <td>-0.255849</td>\n",
       "    </tr>\n",
       "    <tr>\n",
       "      <th>2</th>\n",
       "      <td>-0.749651</td>\n",
       "      <td>-0.449031</td>\n",
       "      <td>-1.300726</td>\n",
       "      <td>-0.708814</td>\n",
       "      <td>-0.57003</td>\n",
       "      <td>-0.411068</td>\n",
       "      <td>-0.255849</td>\n",
       "    </tr>\n",
       "    <tr>\n",
       "      <th>3</th>\n",
       "      <td>0.569250</td>\n",
       "      <td>0.045450</td>\n",
       "      <td>-1.300726</td>\n",
       "      <td>-0.646736</td>\n",
       "      <td>-0.57003</td>\n",
       "      <td>-0.411068</td>\n",
       "      <td>-0.255849</td>\n",
       "    </tr>\n",
       "    <tr>\n",
       "      <th>4</th>\n",
       "      <td>-0.749651</td>\n",
       "      <td>-0.449359</td>\n",
       "      <td>-1.300726</td>\n",
       "      <td>-0.235470</td>\n",
       "      <td>-0.57003</td>\n",
       "      <td>-0.411068</td>\n",
       "      <td>-0.255849</td>\n",
       "    </tr>\n",
       "  </tbody>\n",
       "</table>\n",
       "</div>"
      ],
      "text/plain": [
       "        age   balance       day  duration  campaign     pdays  previous\n",
       "0  1.605529  0.254880 -1.300726  0.008962  -0.57003 -0.411068 -0.255849\n",
       "1  0.286628 -0.440154 -1.300726 -0.417824  -0.57003 -0.411068 -0.255849\n",
       "2 -0.749651 -0.449031 -1.300726 -0.708814  -0.57003 -0.411068 -0.255849\n",
       "3  0.569250  0.045450 -1.300726 -0.646736  -0.57003 -0.411068 -0.255849\n",
       "4 -0.749651 -0.449359 -1.300726 -0.235470  -0.57003 -0.411068 -0.255849"
      ]
     },
     "execution_count": 603,
     "metadata": {},
     "output_type": "execute_result"
    }
   ],
   "source": [
    "marketing_data_numbers_scaled.head()"
   ]
  },
  {
   "cell_type": "markdown",
   "id": "bd74e6e1",
   "metadata": {},
   "source": [
    "### Text Processing"
   ]
  },
  {
   "cell_type": "code",
   "execution_count": 604,
   "id": "d6335c71",
   "metadata": {},
   "outputs": [],
   "source": [
    "# First the column y will be separated as is the target column\n",
    "target_column = marketing_data_text['y']\n",
    "marketing_data_text_features = marketing_data_text.drop(columns='y', axis=1)"
   ]
  },
  {
   "cell_type": "code",
   "execution_count": 605,
   "id": "492c53f1",
   "metadata": {},
   "outputs": [
    {
     "data": {
      "text/plain": [
       "0    no\n",
       "1    no\n",
       "2    no\n",
       "3    no\n",
       "4    no\n",
       "Name: y, dtype: object"
      ]
     },
     "execution_count": 605,
     "metadata": {},
     "output_type": "execute_result"
    }
   ],
   "source": [
    "target_column.head()"
   ]
  },
  {
   "cell_type": "code",
   "execution_count": 606,
   "id": "aaf4f860",
   "metadata": {},
   "outputs": [
    {
     "data": {
      "text/html": [
       "<div>\n",
       "<style scoped>\n",
       "    .dataframe tbody tr th:only-of-type {\n",
       "        vertical-align: middle;\n",
       "    }\n",
       "\n",
       "    .dataframe tbody tr th {\n",
       "        vertical-align: top;\n",
       "    }\n",
       "\n",
       "    .dataframe thead th {\n",
       "        text-align: right;\n",
       "    }\n",
       "</style>\n",
       "<table border=\"1\" class=\"dataframe\">\n",
       "  <thead>\n",
       "    <tr style=\"text-align: right;\">\n",
       "      <th></th>\n",
       "      <th>job</th>\n",
       "      <th>marital</th>\n",
       "      <th>education</th>\n",
       "      <th>default</th>\n",
       "      <th>housing</th>\n",
       "      <th>loan</th>\n",
       "      <th>contact</th>\n",
       "      <th>month</th>\n",
       "      <th>poutcome</th>\n",
       "    </tr>\n",
       "  </thead>\n",
       "  <tbody>\n",
       "    <tr>\n",
       "      <th>0</th>\n",
       "      <td>management</td>\n",
       "      <td>married</td>\n",
       "      <td>tertiary</td>\n",
       "      <td>no</td>\n",
       "      <td>yes</td>\n",
       "      <td>no</td>\n",
       "      <td>unknown</td>\n",
       "      <td>may</td>\n",
       "      <td>unknown</td>\n",
       "    </tr>\n",
       "    <tr>\n",
       "      <th>1</th>\n",
       "      <td>technician</td>\n",
       "      <td>single</td>\n",
       "      <td>secondary</td>\n",
       "      <td>no</td>\n",
       "      <td>yes</td>\n",
       "      <td>no</td>\n",
       "      <td>unknown</td>\n",
       "      <td>may</td>\n",
       "      <td>unknown</td>\n",
       "    </tr>\n",
       "    <tr>\n",
       "      <th>2</th>\n",
       "      <td>entrepreneur</td>\n",
       "      <td>married</td>\n",
       "      <td>secondary</td>\n",
       "      <td>no</td>\n",
       "      <td>yes</td>\n",
       "      <td>yes</td>\n",
       "      <td>unknown</td>\n",
       "      <td>may</td>\n",
       "      <td>unknown</td>\n",
       "    </tr>\n",
       "    <tr>\n",
       "      <th>3</th>\n",
       "      <td>blue-collar</td>\n",
       "      <td>married</td>\n",
       "      <td>unknown</td>\n",
       "      <td>no</td>\n",
       "      <td>yes</td>\n",
       "      <td>no</td>\n",
       "      <td>unknown</td>\n",
       "      <td>may</td>\n",
       "      <td>unknown</td>\n",
       "    </tr>\n",
       "    <tr>\n",
       "      <th>4</th>\n",
       "      <td>unknown</td>\n",
       "      <td>single</td>\n",
       "      <td>unknown</td>\n",
       "      <td>no</td>\n",
       "      <td>no</td>\n",
       "      <td>no</td>\n",
       "      <td>unknown</td>\n",
       "      <td>may</td>\n",
       "      <td>unknown</td>\n",
       "    </tr>\n",
       "  </tbody>\n",
       "</table>\n",
       "</div>"
      ],
      "text/plain": [
       "            job  marital  education default housing loan  contact month  \\\n",
       "0    management  married   tertiary      no     yes   no  unknown   may   \n",
       "1    technician   single  secondary      no     yes   no  unknown   may   \n",
       "2  entrepreneur  married  secondary      no     yes  yes  unknown   may   \n",
       "3   blue-collar  married    unknown      no     yes   no  unknown   may   \n",
       "4       unknown   single    unknown      no      no   no  unknown   may   \n",
       "\n",
       "  poutcome  \n",
       "0  unknown  \n",
       "1  unknown  \n",
       "2  unknown  \n",
       "3  unknown  \n",
       "4  unknown  "
      ]
     },
     "execution_count": 606,
     "metadata": {},
     "output_type": "execute_result"
    }
   ],
   "source": [
    "marketing_data_text_features.head()"
   ]
  },
  {
   "cell_type": "code",
   "execution_count": 607,
   "id": "3310a3ca",
   "metadata": {},
   "outputs": [
    {
     "name": "stdout",
     "output_type": "stream",
     "text": [
      "[LabelEncoder(), LabelEncoder(), LabelEncoder(), LabelEncoder(), LabelEncoder(), LabelEncoder(), LabelEncoder(), LabelEncoder(), LabelEncoder()]\n"
     ]
    }
   ],
   "source": [
    "text_encoders = [LabelEncoder() for column in marketing_data_text_features.columns]\n",
    "print(text_encoders)"
   ]
  },
  {
   "cell_type": "code",
   "execution_count": 608,
   "id": "b97a3210",
   "metadata": {},
   "outputs": [],
   "source": [
    "marketing_data_text_features_encoded = pd.DataFrame()"
   ]
  },
  {
   "cell_type": "code",
   "execution_count": 609,
   "id": "2374c4c9",
   "metadata": {},
   "outputs": [],
   "source": [
    "for index, encoder in enumerate(text_encoders):\n",
    "    column_name = marketing_data_text_features.columns[index]\n",
    "    marketing_data_text_features_encoded[column_name] = encoder.fit_transform(marketing_data_text_features.iloc[:, index])"
   ]
  },
  {
   "cell_type": "code",
   "execution_count": 610,
   "id": "d7105450",
   "metadata": {},
   "outputs": [
    {
     "data": {
      "text/html": [
       "<div>\n",
       "<style scoped>\n",
       "    .dataframe tbody tr th:only-of-type {\n",
       "        vertical-align: middle;\n",
       "    }\n",
       "\n",
       "    .dataframe tbody tr th {\n",
       "        vertical-align: top;\n",
       "    }\n",
       "\n",
       "    .dataframe thead th {\n",
       "        text-align: right;\n",
       "    }\n",
       "</style>\n",
       "<table border=\"1\" class=\"dataframe\">\n",
       "  <thead>\n",
       "    <tr style=\"text-align: right;\">\n",
       "      <th></th>\n",
       "      <th>job</th>\n",
       "      <th>marital</th>\n",
       "      <th>education</th>\n",
       "      <th>default</th>\n",
       "      <th>housing</th>\n",
       "      <th>loan</th>\n",
       "      <th>contact</th>\n",
       "      <th>month</th>\n",
       "      <th>poutcome</th>\n",
       "    </tr>\n",
       "  </thead>\n",
       "  <tbody>\n",
       "    <tr>\n",
       "      <th>0</th>\n",
       "      <td>4</td>\n",
       "      <td>1</td>\n",
       "      <td>2</td>\n",
       "      <td>0</td>\n",
       "      <td>1</td>\n",
       "      <td>0</td>\n",
       "      <td>2</td>\n",
       "      <td>8</td>\n",
       "      <td>3</td>\n",
       "    </tr>\n",
       "    <tr>\n",
       "      <th>1</th>\n",
       "      <td>9</td>\n",
       "      <td>2</td>\n",
       "      <td>1</td>\n",
       "      <td>0</td>\n",
       "      <td>1</td>\n",
       "      <td>0</td>\n",
       "      <td>2</td>\n",
       "      <td>8</td>\n",
       "      <td>3</td>\n",
       "    </tr>\n",
       "    <tr>\n",
       "      <th>2</th>\n",
       "      <td>2</td>\n",
       "      <td>1</td>\n",
       "      <td>1</td>\n",
       "      <td>0</td>\n",
       "      <td>1</td>\n",
       "      <td>1</td>\n",
       "      <td>2</td>\n",
       "      <td>8</td>\n",
       "      <td>3</td>\n",
       "    </tr>\n",
       "    <tr>\n",
       "      <th>3</th>\n",
       "      <td>1</td>\n",
       "      <td>1</td>\n",
       "      <td>3</td>\n",
       "      <td>0</td>\n",
       "      <td>1</td>\n",
       "      <td>0</td>\n",
       "      <td>2</td>\n",
       "      <td>8</td>\n",
       "      <td>3</td>\n",
       "    </tr>\n",
       "    <tr>\n",
       "      <th>4</th>\n",
       "      <td>11</td>\n",
       "      <td>2</td>\n",
       "      <td>3</td>\n",
       "      <td>0</td>\n",
       "      <td>0</td>\n",
       "      <td>0</td>\n",
       "      <td>2</td>\n",
       "      <td>8</td>\n",
       "      <td>3</td>\n",
       "    </tr>\n",
       "  </tbody>\n",
       "</table>\n",
       "</div>"
      ],
      "text/plain": [
       "   job  marital  education  default  housing  loan  contact  month  poutcome\n",
       "0    4        1          2        0        1     0        2      8         3\n",
       "1    9        2          1        0        1     0        2      8         3\n",
       "2    2        1          1        0        1     1        2      8         3\n",
       "3    1        1          3        0        1     0        2      8         3\n",
       "4   11        2          3        0        0     0        2      8         3"
      ]
     },
     "execution_count": 610,
     "metadata": {},
     "output_type": "execute_result"
    }
   ],
   "source": [
    "marketing_data_text_features_encoded.head()"
   ]
  },
  {
   "cell_type": "code",
   "execution_count": 611,
   "id": "aa413d64",
   "metadata": {},
   "outputs": [
    {
     "name": "stdout",
     "output_type": "stream",
     "text": [
      "['management' 'technician' 'entrepreneur' ... 'technician' 'blue-collar'\n",
      " 'entrepreneur']\n"
     ]
    }
   ],
   "source": [
    "# Checking the inverse transform on the job encoder\n",
    "print(text_encoders[0].inverse_transform(marketing_data_text_features_encoded['job']))"
   ]
  },
  {
   "cell_type": "code",
   "execution_count": 612,
   "id": "413a8ef3",
   "metadata": {},
   "outputs": [
    {
     "data": {
      "text/plain": [
       "no     43922\n",
       "yes     5810\n",
       "Name: y, dtype: int64"
      ]
     },
     "execution_count": 612,
     "metadata": {},
     "output_type": "execute_result"
    }
   ],
   "source": [
    "# Checking values in target column\n",
    "target_column.value_counts()"
   ]
  },
  {
   "cell_type": "code",
   "execution_count": 613,
   "id": "a9cdd5bd",
   "metadata": {},
   "outputs": [],
   "source": [
    "# Replacing the values\n",
    "target_column.replace({'no': 0, 'yes': 1}, inplace=True)"
   ]
  },
  {
   "cell_type": "code",
   "execution_count": 614,
   "id": "c92b942f",
   "metadata": {},
   "outputs": [
    {
     "data": {
      "text/plain": [
       "0    43922\n",
       "1     5810\n",
       "Name: y, dtype: int64"
      ]
     },
     "execution_count": 614,
     "metadata": {},
     "output_type": "execute_result"
    }
   ],
   "source": [
    "target_column.value_counts()"
   ]
  },
  {
   "cell_type": "markdown",
   "id": "c42a63c9",
   "metadata": {},
   "source": [
    "0 $\\longrightarrow$ Not subscribed to term deposit  \n",
    "1 $\\longrightarrow$ Subscribed to term deposit"
   ]
  },
  {
   "cell_type": "markdown",
   "id": "9b0087d8",
   "metadata": {},
   "source": [
    "### Concatenating the numbers and text dataframes"
   ]
  },
  {
   "cell_type": "code",
   "execution_count": 615,
   "id": "2737997c",
   "metadata": {},
   "outputs": [],
   "source": [
    "marketing_data_preprocessed = pd.concat([marketing_data_numbers_scaled, marketing_data_text_features_encoded, target_column], axis=1)"
   ]
  },
  {
   "cell_type": "code",
   "execution_count": 616,
   "id": "42e3ccd5",
   "metadata": {},
   "outputs": [
    {
     "data": {
      "text/html": [
       "<div>\n",
       "<style scoped>\n",
       "    .dataframe tbody tr th:only-of-type {\n",
       "        vertical-align: middle;\n",
       "    }\n",
       "\n",
       "    .dataframe tbody tr th {\n",
       "        vertical-align: top;\n",
       "    }\n",
       "\n",
       "    .dataframe thead th {\n",
       "        text-align: right;\n",
       "    }\n",
       "</style>\n",
       "<table border=\"1\" class=\"dataframe\">\n",
       "  <thead>\n",
       "    <tr style=\"text-align: right;\">\n",
       "      <th></th>\n",
       "      <th>age</th>\n",
       "      <th>balance</th>\n",
       "      <th>day</th>\n",
       "      <th>duration</th>\n",
       "      <th>campaign</th>\n",
       "      <th>pdays</th>\n",
       "      <th>previous</th>\n",
       "      <th>job</th>\n",
       "      <th>marital</th>\n",
       "      <th>education</th>\n",
       "      <th>default</th>\n",
       "      <th>housing</th>\n",
       "      <th>loan</th>\n",
       "      <th>contact</th>\n",
       "      <th>month</th>\n",
       "      <th>poutcome</th>\n",
       "      <th>y</th>\n",
       "    </tr>\n",
       "  </thead>\n",
       "  <tbody>\n",
       "    <tr>\n",
       "      <th>0</th>\n",
       "      <td>1.605529</td>\n",
       "      <td>0.254880</td>\n",
       "      <td>-1.300726</td>\n",
       "      <td>0.008962</td>\n",
       "      <td>-0.57003</td>\n",
       "      <td>-0.411068</td>\n",
       "      <td>-0.255849</td>\n",
       "      <td>4</td>\n",
       "      <td>1</td>\n",
       "      <td>2</td>\n",
       "      <td>0</td>\n",
       "      <td>1</td>\n",
       "      <td>0</td>\n",
       "      <td>2</td>\n",
       "      <td>8</td>\n",
       "      <td>3</td>\n",
       "      <td>0</td>\n",
       "    </tr>\n",
       "    <tr>\n",
       "      <th>1</th>\n",
       "      <td>0.286628</td>\n",
       "      <td>-0.440154</td>\n",
       "      <td>-1.300726</td>\n",
       "      <td>-0.417824</td>\n",
       "      <td>-0.57003</td>\n",
       "      <td>-0.411068</td>\n",
       "      <td>-0.255849</td>\n",
       "      <td>9</td>\n",
       "      <td>2</td>\n",
       "      <td>1</td>\n",
       "      <td>0</td>\n",
       "      <td>1</td>\n",
       "      <td>0</td>\n",
       "      <td>2</td>\n",
       "      <td>8</td>\n",
       "      <td>3</td>\n",
       "      <td>0</td>\n",
       "    </tr>\n",
       "    <tr>\n",
       "      <th>2</th>\n",
       "      <td>-0.749651</td>\n",
       "      <td>-0.449031</td>\n",
       "      <td>-1.300726</td>\n",
       "      <td>-0.708814</td>\n",
       "      <td>-0.57003</td>\n",
       "      <td>-0.411068</td>\n",
       "      <td>-0.255849</td>\n",
       "      <td>2</td>\n",
       "      <td>1</td>\n",
       "      <td>1</td>\n",
       "      <td>0</td>\n",
       "      <td>1</td>\n",
       "      <td>1</td>\n",
       "      <td>2</td>\n",
       "      <td>8</td>\n",
       "      <td>3</td>\n",
       "      <td>0</td>\n",
       "    </tr>\n",
       "    <tr>\n",
       "      <th>3</th>\n",
       "      <td>0.569250</td>\n",
       "      <td>0.045450</td>\n",
       "      <td>-1.300726</td>\n",
       "      <td>-0.646736</td>\n",
       "      <td>-0.57003</td>\n",
       "      <td>-0.411068</td>\n",
       "      <td>-0.255849</td>\n",
       "      <td>1</td>\n",
       "      <td>1</td>\n",
       "      <td>3</td>\n",
       "      <td>0</td>\n",
       "      <td>1</td>\n",
       "      <td>0</td>\n",
       "      <td>2</td>\n",
       "      <td>8</td>\n",
       "      <td>3</td>\n",
       "      <td>0</td>\n",
       "    </tr>\n",
       "    <tr>\n",
       "      <th>4</th>\n",
       "      <td>-0.749651</td>\n",
       "      <td>-0.449359</td>\n",
       "      <td>-1.300726</td>\n",
       "      <td>-0.235470</td>\n",
       "      <td>-0.57003</td>\n",
       "      <td>-0.411068</td>\n",
       "      <td>-0.255849</td>\n",
       "      <td>11</td>\n",
       "      <td>2</td>\n",
       "      <td>3</td>\n",
       "      <td>0</td>\n",
       "      <td>0</td>\n",
       "      <td>0</td>\n",
       "      <td>2</td>\n",
       "      <td>8</td>\n",
       "      <td>3</td>\n",
       "      <td>0</td>\n",
       "    </tr>\n",
       "  </tbody>\n",
       "</table>\n",
       "</div>"
      ],
      "text/plain": [
       "        age   balance       day  duration  campaign     pdays  previous  job  \\\n",
       "0  1.605529  0.254880 -1.300726  0.008962  -0.57003 -0.411068 -0.255849    4   \n",
       "1  0.286628 -0.440154 -1.300726 -0.417824  -0.57003 -0.411068 -0.255849    9   \n",
       "2 -0.749651 -0.449031 -1.300726 -0.708814  -0.57003 -0.411068 -0.255849    2   \n",
       "3  0.569250  0.045450 -1.300726 -0.646736  -0.57003 -0.411068 -0.255849    1   \n",
       "4 -0.749651 -0.449359 -1.300726 -0.235470  -0.57003 -0.411068 -0.255849   11   \n",
       "\n",
       "   marital  education  default  housing  loan  contact  month  poutcome  y  \n",
       "0        1          2        0        1     0        2      8         3  0  \n",
       "1        2          1        0        1     0        2      8         3  0  \n",
       "2        1          1        0        1     1        2      8         3  0  \n",
       "3        1          3        0        1     0        2      8         3  0  \n",
       "4        2          3        0        0     0        2      8         3  0  "
      ]
     },
     "execution_count": 616,
     "metadata": {},
     "output_type": "execute_result"
    }
   ],
   "source": [
    "marketing_data_preprocessed.head()"
   ]
  },
  {
   "cell_type": "code",
   "execution_count": 617,
   "id": "a101be68",
   "metadata": {},
   "outputs": [
    {
     "data": {
      "text/html": [
       "<div>\n",
       "<style scoped>\n",
       "    .dataframe tbody tr th:only-of-type {\n",
       "        vertical-align: middle;\n",
       "    }\n",
       "\n",
       "    .dataframe tbody tr th {\n",
       "        vertical-align: top;\n",
       "    }\n",
       "\n",
       "    .dataframe thead th {\n",
       "        text-align: right;\n",
       "    }\n",
       "</style>\n",
       "<table border=\"1\" class=\"dataframe\">\n",
       "  <thead>\n",
       "    <tr style=\"text-align: right;\">\n",
       "      <th></th>\n",
       "      <th>age</th>\n",
       "      <th>balance</th>\n",
       "      <th>day</th>\n",
       "      <th>duration</th>\n",
       "      <th>campaign</th>\n",
       "      <th>pdays</th>\n",
       "      <th>previous</th>\n",
       "      <th>job</th>\n",
       "      <th>marital</th>\n",
       "      <th>education</th>\n",
       "      <th>default</th>\n",
       "      <th>housing</th>\n",
       "      <th>loan</th>\n",
       "      <th>contact</th>\n",
       "      <th>month</th>\n",
       "      <th>poutcome</th>\n",
       "      <th>y</th>\n",
       "    </tr>\n",
       "  </thead>\n",
       "  <tbody>\n",
       "    <tr>\n",
       "      <th>49727</th>\n",
       "      <td>-0.749651</td>\n",
       "      <td>-0.559171</td>\n",
       "      <td>1.705673</td>\n",
       "      <td>0.272793</td>\n",
       "      <td>0.720691</td>\n",
       "      <td>-0.411068</td>\n",
       "      <td>-0.255849</td>\n",
       "      <td>7</td>\n",
       "      <td>1</td>\n",
       "      <td>1</td>\n",
       "      <td>0</td>\n",
       "      <td>1</td>\n",
       "      <td>0</td>\n",
       "      <td>0</td>\n",
       "      <td>5</td>\n",
       "      <td>3</td>\n",
       "      <td>0</td>\n",
       "    </tr>\n",
       "    <tr>\n",
       "      <th>49728</th>\n",
       "      <td>1.511321</td>\n",
       "      <td>-1.538925</td>\n",
       "      <td>-0.819703</td>\n",
       "      <td>-0.410064</td>\n",
       "      <td>-0.570030</td>\n",
       "      <td>-0.411068</td>\n",
       "      <td>-0.255849</td>\n",
       "      <td>6</td>\n",
       "      <td>1</td>\n",
       "      <td>2</td>\n",
       "      <td>1</td>\n",
       "      <td>1</td>\n",
       "      <td>1</td>\n",
       "      <td>2</td>\n",
       "      <td>8</td>\n",
       "      <td>3</td>\n",
       "      <td>0</td>\n",
       "    </tr>\n",
       "    <tr>\n",
       "      <th>49729</th>\n",
       "      <td>1.511321</td>\n",
       "      <td>-0.352699</td>\n",
       "      <td>0.382857</td>\n",
       "      <td>-0.417824</td>\n",
       "      <td>2.656772</td>\n",
       "      <td>-0.411068</td>\n",
       "      <td>-0.255849</td>\n",
       "      <td>9</td>\n",
       "      <td>1</td>\n",
       "      <td>1</td>\n",
       "      <td>0</td>\n",
       "      <td>0</td>\n",
       "      <td>0</td>\n",
       "      <td>0</td>\n",
       "      <td>1</td>\n",
       "      <td>3</td>\n",
       "      <td>0</td>\n",
       "    </tr>\n",
       "    <tr>\n",
       "      <th>49730</th>\n",
       "      <td>-1.220687</td>\n",
       "      <td>-0.075869</td>\n",
       "      <td>-1.180470</td>\n",
       "      <td>-0.503181</td>\n",
       "      <td>0.398010</td>\n",
       "      <td>1.706262</td>\n",
       "      <td>1.074637</td>\n",
       "      <td>1</td>\n",
       "      <td>1</td>\n",
       "      <td>1</td>\n",
       "      <td>0</td>\n",
       "      <td>0</td>\n",
       "      <td>0</td>\n",
       "      <td>0</td>\n",
       "      <td>3</td>\n",
       "      <td>1</td>\n",
       "      <td>0</td>\n",
       "    </tr>\n",
       "    <tr>\n",
       "      <th>49731</th>\n",
       "      <td>0.286628</td>\n",
       "      <td>-0.076198</td>\n",
       "      <td>-1.541238</td>\n",
       "      <td>0.334871</td>\n",
       "      <td>-0.247350</td>\n",
       "      <td>2.085783</td>\n",
       "      <td>2.848619</td>\n",
       "      <td>2</td>\n",
       "      <td>2</td>\n",
       "      <td>2</td>\n",
       "      <td>0</td>\n",
       "      <td>1</td>\n",
       "      <td>1</td>\n",
       "      <td>0</td>\n",
       "      <td>0</td>\n",
       "      <td>1</td>\n",
       "      <td>0</td>\n",
       "    </tr>\n",
       "  </tbody>\n",
       "</table>\n",
       "</div>"
      ],
      "text/plain": [
       "            age   balance       day  duration  campaign     pdays  previous  \\\n",
       "49727 -0.749651 -0.559171  1.705673  0.272793  0.720691 -0.411068 -0.255849   \n",
       "49728  1.511321 -1.538925 -0.819703 -0.410064 -0.570030 -0.411068 -0.255849   \n",
       "49729  1.511321 -0.352699  0.382857 -0.417824  2.656772 -0.411068 -0.255849   \n",
       "49730 -1.220687 -0.075869 -1.180470 -0.503181  0.398010  1.706262  1.074637   \n",
       "49731  0.286628 -0.076198 -1.541238  0.334871 -0.247350  2.085783  2.848619   \n",
       "\n",
       "       job  marital  education  default  housing  loan  contact  month  \\\n",
       "49727    7        1          1        0        1     0        0      5   \n",
       "49728    6        1          2        1        1     1        2      8   \n",
       "49729    9        1          1        0        0     0        0      1   \n",
       "49730    1        1          1        0        0     0        0      3   \n",
       "49731    2        2          2        0        1     1        0      0   \n",
       "\n",
       "       poutcome  y  \n",
       "49727         3  0  \n",
       "49728         3  0  \n",
       "49729         3  0  \n",
       "49730         1  0  \n",
       "49731         1  0  "
      ]
     },
     "execution_count": 617,
     "metadata": {},
     "output_type": "execute_result"
    }
   ],
   "source": [
    "marketing_data_preprocessed.tail()"
   ]
  },
  {
   "cell_type": "markdown",
   "id": "039894a9",
   "metadata": {},
   "source": [
    "## Creating a balanced dataset"
   ]
  },
  {
   "cell_type": "markdown",
   "id": "21602013",
   "metadata": {},
   "source": [
    "There are 43922 non subscribed clients and 5810 subscribed clients. To avoid problems with the model training, we will be creating a new balanced dataset taking the 5810 subscribed clients and a sample of 5810 non subscribed clients."
   ]
  },
  {
   "cell_type": "code",
   "execution_count": 618,
   "id": "7e71dd7f",
   "metadata": {},
   "outputs": [],
   "source": [
    "subscribed = marketing_data_preprocessed.loc[marketing_data_preprocessed['y'] == 1]\n",
    "non_subscribed = marketing_data_preprocessed.loc[marketing_data_preprocessed['y'] == 0]"
   ]
  },
  {
   "cell_type": "code",
   "execution_count": 619,
   "id": "247ab53a",
   "metadata": {},
   "outputs": [
    {
     "name": "stdout",
     "output_type": "stream",
     "text": [
      "(5810, 17) (43922, 17)\n"
     ]
    }
   ],
   "source": [
    "print(subscribed.shape, non_subscribed.shape)"
   ]
  },
  {
   "cell_type": "code",
   "execution_count": 620,
   "id": "4507ef6c",
   "metadata": {},
   "outputs": [],
   "source": [
    "non_subscribed_sample = non_subscribed.sample(n=5810, random_state=0)"
   ]
  },
  {
   "cell_type": "code",
   "execution_count": 621,
   "id": "813e2745",
   "metadata": {},
   "outputs": [],
   "source": [
    "balanced_marketing_data = pd.concat([subscribed, non_subscribed_sample], axis=0, ignore_index=True)"
   ]
  },
  {
   "cell_type": "code",
   "execution_count": 622,
   "id": "e5501ada",
   "metadata": {},
   "outputs": [
    {
     "data": {
      "text/html": [
       "<div>\n",
       "<style scoped>\n",
       "    .dataframe tbody tr th:only-of-type {\n",
       "        vertical-align: middle;\n",
       "    }\n",
       "\n",
       "    .dataframe tbody tr th {\n",
       "        vertical-align: top;\n",
       "    }\n",
       "\n",
       "    .dataframe thead th {\n",
       "        text-align: right;\n",
       "    }\n",
       "</style>\n",
       "<table border=\"1\" class=\"dataframe\">\n",
       "  <thead>\n",
       "    <tr style=\"text-align: right;\">\n",
       "      <th></th>\n",
       "      <th>age</th>\n",
       "      <th>balance</th>\n",
       "      <th>day</th>\n",
       "      <th>duration</th>\n",
       "      <th>campaign</th>\n",
       "      <th>pdays</th>\n",
       "      <th>previous</th>\n",
       "      <th>job</th>\n",
       "      <th>marital</th>\n",
       "      <th>education</th>\n",
       "      <th>default</th>\n",
       "      <th>housing</th>\n",
       "      <th>loan</th>\n",
       "      <th>contact</th>\n",
       "      <th>month</th>\n",
       "      <th>poutcome</th>\n",
       "      <th>y</th>\n",
       "    </tr>\n",
       "  </thead>\n",
       "  <tbody>\n",
       "    <tr>\n",
       "      <th>0</th>\n",
       "      <td>1.699736</td>\n",
       "      <td>0.320636</td>\n",
       "      <td>-1.300726</td>\n",
       "      <td>3.039141</td>\n",
       "      <td>-0.57003</td>\n",
       "      <td>-0.411068</td>\n",
       "      <td>-0.255849</td>\n",
       "      <td>0</td>\n",
       "      <td>1</td>\n",
       "      <td>1</td>\n",
       "      <td>0</td>\n",
       "      <td>1</td>\n",
       "      <td>0</td>\n",
       "      <td>2</td>\n",
       "      <td>8</td>\n",
       "      <td>3</td>\n",
       "      <td>1</td>\n",
       "    </tr>\n",
       "    <tr>\n",
       "      <th>1</th>\n",
       "      <td>1.417114</td>\n",
       "      <td>-0.434893</td>\n",
       "      <td>-1.300726</td>\n",
       "      <td>4.688086</td>\n",
       "      <td>-0.57003</td>\n",
       "      <td>-0.411068</td>\n",
       "      <td>-0.255849</td>\n",
       "      <td>0</td>\n",
       "      <td>1</td>\n",
       "      <td>1</td>\n",
       "      <td>0</td>\n",
       "      <td>0</td>\n",
       "      <td>0</td>\n",
       "      <td>2</td>\n",
       "      <td>8</td>\n",
       "      <td>3</td>\n",
       "      <td>1</td>\n",
       "    </tr>\n",
       "    <tr>\n",
       "      <th>2</th>\n",
       "      <td>0.004006</td>\n",
       "      <td>-0.032142</td>\n",
       "      <td>-1.300726</td>\n",
       "      <td>4.385456</td>\n",
       "      <td>-0.57003</td>\n",
       "      <td>-0.411068</td>\n",
       "      <td>-0.255849</td>\n",
       "      <td>9</td>\n",
       "      <td>1</td>\n",
       "      <td>1</td>\n",
       "      <td>0</td>\n",
       "      <td>1</td>\n",
       "      <td>0</td>\n",
       "      <td>2</td>\n",
       "      <td>8</td>\n",
       "      <td>3</td>\n",
       "      <td>1</td>\n",
       "    </tr>\n",
       "    <tr>\n",
       "      <th>3</th>\n",
       "      <td>1.322907</td>\n",
       "      <td>0.364363</td>\n",
       "      <td>-1.300726</td>\n",
       "      <td>1.242761</td>\n",
       "      <td>-0.57003</td>\n",
       "      <td>-0.411068</td>\n",
       "      <td>-0.255849</td>\n",
       "      <td>7</td>\n",
       "      <td>1</td>\n",
       "      <td>1</td>\n",
       "      <td>0</td>\n",
       "      <td>1</td>\n",
       "      <td>0</td>\n",
       "      <td>2</td>\n",
       "      <td>8</td>\n",
       "      <td>3</td>\n",
       "      <td>1</td>\n",
       "    </tr>\n",
       "    <tr>\n",
       "      <th>4</th>\n",
       "      <td>1.228700</td>\n",
       "      <td>-0.389193</td>\n",
       "      <td>-1.300726</td>\n",
       "      <td>1.607468</td>\n",
       "      <td>-0.24735</td>\n",
       "      <td>-0.411068</td>\n",
       "      <td>-0.255849</td>\n",
       "      <td>0</td>\n",
       "      <td>1</td>\n",
       "      <td>2</td>\n",
       "      <td>0</td>\n",
       "      <td>0</td>\n",
       "      <td>0</td>\n",
       "      <td>2</td>\n",
       "      <td>8</td>\n",
       "      <td>3</td>\n",
       "      <td>1</td>\n",
       "    </tr>\n",
       "  </tbody>\n",
       "</table>\n",
       "</div>"
      ],
      "text/plain": [
       "        age   balance       day  duration  campaign     pdays  previous  job  \\\n",
       "0  1.699736  0.320636 -1.300726  3.039141  -0.57003 -0.411068 -0.255849    0   \n",
       "1  1.417114 -0.434893 -1.300726  4.688086  -0.57003 -0.411068 -0.255849    0   \n",
       "2  0.004006 -0.032142 -1.300726  4.385456  -0.57003 -0.411068 -0.255849    9   \n",
       "3  1.322907  0.364363 -1.300726  1.242761  -0.57003 -0.411068 -0.255849    7   \n",
       "4  1.228700 -0.389193 -1.300726  1.607468  -0.24735 -0.411068 -0.255849    0   \n",
       "\n",
       "   marital  education  default  housing  loan  contact  month  poutcome  y  \n",
       "0        1          1        0        1     0        2      8         3  1  \n",
       "1        1          1        0        0     0        2      8         3  1  \n",
       "2        1          1        0        1     0        2      8         3  1  \n",
       "3        1          1        0        1     0        2      8         3  1  \n",
       "4        1          2        0        0     0        2      8         3  1  "
      ]
     },
     "execution_count": 622,
     "metadata": {},
     "output_type": "execute_result"
    }
   ],
   "source": [
    "balanced_marketing_data.head()"
   ]
  },
  {
   "cell_type": "code",
   "execution_count": 623,
   "id": "9a18d76b",
   "metadata": {},
   "outputs": [
    {
     "data": {
      "text/html": [
       "<div>\n",
       "<style scoped>\n",
       "    .dataframe tbody tr th:only-of-type {\n",
       "        vertical-align: middle;\n",
       "    }\n",
       "\n",
       "    .dataframe tbody tr th {\n",
       "        vertical-align: top;\n",
       "    }\n",
       "\n",
       "    .dataframe thead th {\n",
       "        text-align: right;\n",
       "    }\n",
       "</style>\n",
       "<table border=\"1\" class=\"dataframe\">\n",
       "  <thead>\n",
       "    <tr style=\"text-align: right;\">\n",
       "      <th></th>\n",
       "      <th>age</th>\n",
       "      <th>balance</th>\n",
       "      <th>day</th>\n",
       "      <th>duration</th>\n",
       "      <th>campaign</th>\n",
       "      <th>pdays</th>\n",
       "      <th>previous</th>\n",
       "      <th>job</th>\n",
       "      <th>marital</th>\n",
       "      <th>education</th>\n",
       "      <th>default</th>\n",
       "      <th>housing</th>\n",
       "      <th>loan</th>\n",
       "      <th>contact</th>\n",
       "      <th>month</th>\n",
       "      <th>poutcome</th>\n",
       "      <th>y</th>\n",
       "    </tr>\n",
       "  </thead>\n",
       "  <tbody>\n",
       "    <tr>\n",
       "      <th>11615</th>\n",
       "      <td>0.851871</td>\n",
       "      <td>-0.449688</td>\n",
       "      <td>-0.458935</td>\n",
       "      <td>0.303832</td>\n",
       "      <td>-0.570030</td>\n",
       "      <td>2.175670</td>\n",
       "      <td>2.405123</td>\n",
       "      <td>9</td>\n",
       "      <td>1</td>\n",
       "      <td>2</td>\n",
       "      <td>0</td>\n",
       "      <td>0</td>\n",
       "      <td>1</td>\n",
       "      <td>0</td>\n",
       "      <td>0</td>\n",
       "      <td>0</td>\n",
       "      <td>0</td>\n",
       "    </tr>\n",
       "    <tr>\n",
       "      <th>11616</th>\n",
       "      <td>-1.409101</td>\n",
       "      <td>7.539257</td>\n",
       "      <td>-0.338679</td>\n",
       "      <td>1.727744</td>\n",
       "      <td>-0.570030</td>\n",
       "      <td>-0.411068</td>\n",
       "      <td>-0.255849</td>\n",
       "      <td>9</td>\n",
       "      <td>2</td>\n",
       "      <td>1</td>\n",
       "      <td>0</td>\n",
       "      <td>1</td>\n",
       "      <td>0</td>\n",
       "      <td>2</td>\n",
       "      <td>8</td>\n",
       "      <td>3</td>\n",
       "      <td>0</td>\n",
       "    </tr>\n",
       "    <tr>\n",
       "      <th>11617</th>\n",
       "      <td>-0.090201</td>\n",
       "      <td>-0.180420</td>\n",
       "      <td>-0.338679</td>\n",
       "      <td>-0.809691</td>\n",
       "      <td>0.075330</td>\n",
       "      <td>-0.411068</td>\n",
       "      <td>-0.255849</td>\n",
       "      <td>9</td>\n",
       "      <td>1</td>\n",
       "      <td>0</td>\n",
       "      <td>0</td>\n",
       "      <td>1</td>\n",
       "      <td>0</td>\n",
       "      <td>2</td>\n",
       "      <td>8</td>\n",
       "      <td>3</td>\n",
       "      <td>0</td>\n",
       "    </tr>\n",
       "    <tr>\n",
       "      <th>11618</th>\n",
       "      <td>0.098214</td>\n",
       "      <td>-0.368480</td>\n",
       "      <td>1.825929</td>\n",
       "      <td>-0.708814</td>\n",
       "      <td>0.720691</td>\n",
       "      <td>-0.411068</td>\n",
       "      <td>-0.255849</td>\n",
       "      <td>0</td>\n",
       "      <td>1</td>\n",
       "      <td>1</td>\n",
       "      <td>0</td>\n",
       "      <td>1</td>\n",
       "      <td>0</td>\n",
       "      <td>0</td>\n",
       "      <td>5</td>\n",
       "      <td>3</td>\n",
       "      <td>0</td>\n",
       "    </tr>\n",
       "    <tr>\n",
       "      <th>11619</th>\n",
       "      <td>1.134493</td>\n",
       "      <td>-0.298780</td>\n",
       "      <td>-0.218423</td>\n",
       "      <td>0.226235</td>\n",
       "      <td>1.043371</td>\n",
       "      <td>1.516501</td>\n",
       "      <td>0.187646</td>\n",
       "      <td>0</td>\n",
       "      <td>1</td>\n",
       "      <td>1</td>\n",
       "      <td>0</td>\n",
       "      <td>0</td>\n",
       "      <td>0</td>\n",
       "      <td>0</td>\n",
       "      <td>10</td>\n",
       "      <td>2</td>\n",
       "      <td>0</td>\n",
       "    </tr>\n",
       "  </tbody>\n",
       "</table>\n",
       "</div>"
      ],
      "text/plain": [
       "            age   balance       day  duration  campaign     pdays  previous  \\\n",
       "11615  0.851871 -0.449688 -0.458935  0.303832 -0.570030  2.175670  2.405123   \n",
       "11616 -1.409101  7.539257 -0.338679  1.727744 -0.570030 -0.411068 -0.255849   \n",
       "11617 -0.090201 -0.180420 -0.338679 -0.809691  0.075330 -0.411068 -0.255849   \n",
       "11618  0.098214 -0.368480  1.825929 -0.708814  0.720691 -0.411068 -0.255849   \n",
       "11619  1.134493 -0.298780 -0.218423  0.226235  1.043371  1.516501  0.187646   \n",
       "\n",
       "       job  marital  education  default  housing  loan  contact  month  \\\n",
       "11615    9        1          2        0        0     1        0      0   \n",
       "11616    9        2          1        0        1     0        2      8   \n",
       "11617    9        1          0        0        1     0        2      8   \n",
       "11618    0        1          1        0        1     0        0      5   \n",
       "11619    0        1          1        0        0     0        0     10   \n",
       "\n",
       "       poutcome  y  \n",
       "11615         0  0  \n",
       "11616         3  0  \n",
       "11617         3  0  \n",
       "11618         3  0  \n",
       "11619         2  0  "
      ]
     },
     "execution_count": 623,
     "metadata": {},
     "output_type": "execute_result"
    }
   ],
   "source": [
    "balanced_marketing_data.tail()"
   ]
  },
  {
   "cell_type": "code",
   "execution_count": 624,
   "id": "be21249a",
   "metadata": {},
   "outputs": [
    {
     "data": {
      "text/plain": [
       "(11620, 17)"
      ]
     },
     "execution_count": 624,
     "metadata": {},
     "output_type": "execute_result"
    }
   ],
   "source": [
    "balanced_marketing_data.shape"
   ]
  },
  {
   "cell_type": "code",
   "execution_count": 625,
   "id": "755ae0e0",
   "metadata": {},
   "outputs": [
    {
     "data": {
      "text/plain": [
       "1    5810\n",
       "0    5810\n",
       "Name: y, dtype: int64"
      ]
     },
     "execution_count": 625,
     "metadata": {},
     "output_type": "execute_result"
    }
   ],
   "source": [
    "balanced_marketing_data['y'].value_counts()"
   ]
  },
  {
   "cell_type": "markdown",
   "id": "a95d08c4",
   "metadata": {},
   "source": [
    "## Splitting features and label"
   ]
  },
  {
   "cell_type": "code",
   "execution_count": 626,
   "id": "cfbb7f4b",
   "metadata": {},
   "outputs": [],
   "source": [
    "X = balanced_marketing_data.drop(columns='y')\n",
    "Y = balanced_marketing_data['y']"
   ]
  },
  {
   "cell_type": "code",
   "execution_count": 627,
   "id": "1537a968",
   "metadata": {},
   "outputs": [
    {
     "name": "stdout",
     "output_type": "stream",
     "text": [
      "            age   balance       day  duration  campaign     pdays  previous  \\\n",
      "0      1.699736  0.320636 -1.300726  3.039141 -0.570030 -0.411068 -0.255849   \n",
      "1      1.417114 -0.434893 -1.300726  4.688086 -0.570030 -0.411068 -0.255849   \n",
      "2      0.004006 -0.032142 -1.300726  4.385456 -0.570030 -0.411068 -0.255849   \n",
      "3      1.322907  0.364363 -1.300726  1.242761 -0.570030 -0.411068 -0.255849   \n",
      "4      1.228700 -0.389193 -1.300726  1.607468 -0.247350 -0.411068 -0.255849   \n",
      "...         ...       ...       ...       ...       ...       ...       ...   \n",
      "11615  0.851871 -0.449688 -0.458935  0.303832 -0.570030  2.175670  2.405123   \n",
      "11616 -1.409101  7.539257 -0.338679  1.727744 -0.570030 -0.411068 -0.255849   \n",
      "11617 -0.090201 -0.180420 -0.338679 -0.809691  0.075330 -0.411068 -0.255849   \n",
      "11618  0.098214 -0.368480  1.825929 -0.708814  0.720691 -0.411068 -0.255849   \n",
      "11619  1.134493 -0.298780 -0.218423  0.226235  1.043371  1.516501  0.187646   \n",
      "\n",
      "       job  marital  education  default  housing  loan  contact  month  \\\n",
      "0        0        1          1        0        1     0        2      8   \n",
      "1        0        1          1        0        0     0        2      8   \n",
      "2        9        1          1        0        1     0        2      8   \n",
      "3        7        1          1        0        1     0        2      8   \n",
      "4        0        1          2        0        0     0        2      8   \n",
      "...    ...      ...        ...      ...      ...   ...      ...    ...   \n",
      "11615    9        1          2        0        0     1        0      0   \n",
      "11616    9        2          1        0        1     0        2      8   \n",
      "11617    9        1          0        0        1     0        2      8   \n",
      "11618    0        1          1        0        1     0        0      5   \n",
      "11619    0        1          1        0        0     0        0     10   \n",
      "\n",
      "       poutcome  \n",
      "0             3  \n",
      "1             3  \n",
      "2             3  \n",
      "3             3  \n",
      "4             3  \n",
      "...         ...  \n",
      "11615         0  \n",
      "11616         3  \n",
      "11617         3  \n",
      "11618         3  \n",
      "11619         2  \n",
      "\n",
      "[11620 rows x 16 columns]\n"
     ]
    }
   ],
   "source": [
    "print(X)"
   ]
  },
  {
   "cell_type": "code",
   "execution_count": 628,
   "id": "160928d9",
   "metadata": {},
   "outputs": [
    {
     "name": "stdout",
     "output_type": "stream",
     "text": [
      "0        1\n",
      "1        1\n",
      "2        1\n",
      "3        1\n",
      "4        1\n",
      "        ..\n",
      "11615    0\n",
      "11616    0\n",
      "11617    0\n",
      "11618    0\n",
      "11619    0\n",
      "Name: y, Length: 11620, dtype: int64\n"
     ]
    }
   ],
   "source": [
    "print(Y)"
   ]
  },
  {
   "cell_type": "markdown",
   "id": "0f120370",
   "metadata": {},
   "source": [
    "## Model Selection"
   ]
  },
  {
   "cell_type": "code",
   "execution_count": 633,
   "id": "d1af0098",
   "metadata": {},
   "outputs": [],
   "source": [
    "# List of models\n",
    "models = [LogisticRegression(max_iter=1000), KNeighborsClassifier(), DecisionTreeClassifier(random_state=0)]"
   ]
  },
  {
   "cell_type": "code",
   "execution_count": 634,
   "id": "f0168ba3",
   "metadata": {},
   "outputs": [],
   "source": [
    "models_hyperparameters = {\n",
    "    'Log_Reg': {\n",
    "        'C': [1, 5, 10, 20]\n",
    "    },\n",
    "    \n",
    "    'KNN': {\n",
    "        'n_neighbors': [3, 5, 10],\n",
    "        'p': [1, 2, 3]\n",
    "    },\n",
    "    'Decision_Tree': {\n",
    "        'criterion': ['gini', 'entropy', 'log_loss']\n",
    "    }\n",
    "}"
   ]
  },
  {
   "cell_type": "code",
   "execution_count": 635,
   "id": "e67becdf",
   "metadata": {},
   "outputs": [],
   "source": [
    "def model_selection(list_of_models, hyperparameters_dictionary):\n",
    "    model_keys = list(models_hyperparameters.keys())\n",
    "    result = []\n",
    "    for index, model in enumerate(list_of_models):\n",
    "        key = model_keys[index]\n",
    "        parameters = hyperparameters_dictionary[key]\n",
    "        \n",
    "        print(model)\n",
    "        print(parameters)\n",
    "        print('-' * 120)\n",
    "        \n",
    "        # Train Classifier\n",
    "        classifier = GridSearchCV(model, parameters, cv=5)\n",
    "        classifier.fit(X, Y)\n",
    "        \n",
    "        # Storing the result\n",
    "        result.append({\n",
    "            'model used': model,\n",
    "            'highest score': classifier.best_score_,\n",
    "            'best hyperparameters': classifier.best_params_\n",
    "        })\n",
    "    result_dataframe = pd.DataFrame(result, columns=['model used', 'highest score', 'best hyperparameters'])\n",
    "    return result_dataframe\n",
    "        "
   ]
  },
  {
   "cell_type": "code",
   "execution_count": 636,
   "id": "5f59102d",
   "metadata": {},
   "outputs": [
    {
     "name": "stdout",
     "output_type": "stream",
     "text": [
      "LogisticRegression(max_iter=1000)\n",
      "{'C': [1, 5, 10, 20]}\n",
      "------------------------------------------------------------------------------------------------------------------------\n",
      "KNeighborsClassifier()\n",
      "{'n_neighbors': [3, 5, 10], 'p': [1, 2, 3]}\n",
      "------------------------------------------------------------------------------------------------------------------------\n",
      "DecisionTreeClassifier(random_state=0)\n",
      "{'criterion': ['gini', 'entropy', 'log_loss']}\n",
      "------------------------------------------------------------------------------------------------------------------------\n"
     ]
    },
    {
     "data": {
      "text/html": [
       "<div>\n",
       "<style scoped>\n",
       "    .dataframe tbody tr th:only-of-type {\n",
       "        vertical-align: middle;\n",
       "    }\n",
       "\n",
       "    .dataframe tbody tr th {\n",
       "        vertical-align: top;\n",
       "    }\n",
       "\n",
       "    .dataframe thead th {\n",
       "        text-align: right;\n",
       "    }\n",
       "</style>\n",
       "<table border=\"1\" class=\"dataframe\">\n",
       "  <thead>\n",
       "    <tr style=\"text-align: right;\">\n",
       "      <th></th>\n",
       "      <th>model used</th>\n",
       "      <th>highest score</th>\n",
       "      <th>best hyperparameters</th>\n",
       "    </tr>\n",
       "  </thead>\n",
       "  <tbody>\n",
       "    <tr>\n",
       "      <th>0</th>\n",
       "      <td>LogisticRegression(max_iter=1000)</td>\n",
       "      <td>0.769707</td>\n",
       "      <td>{'C': 5}</td>\n",
       "    </tr>\n",
       "    <tr>\n",
       "      <th>1</th>\n",
       "      <td>KNeighborsClassifier()</td>\n",
       "      <td>0.744664</td>\n",
       "      <td>{'n_neighbors': 5, 'p': 3}</td>\n",
       "    </tr>\n",
       "    <tr>\n",
       "      <th>2</th>\n",
       "      <td>DecisionTreeClassifier(random_state=0)</td>\n",
       "      <td>0.747935</td>\n",
       "      <td>{'criterion': 'gini'}</td>\n",
       "    </tr>\n",
       "  </tbody>\n",
       "</table>\n",
       "</div>"
      ],
      "text/plain": [
       "                               model used  highest score  \\\n",
       "0       LogisticRegression(max_iter=1000)       0.769707   \n",
       "1                  KNeighborsClassifier()       0.744664   \n",
       "2  DecisionTreeClassifier(random_state=0)       0.747935   \n",
       "\n",
       "         best hyperparameters  \n",
       "0                    {'C': 5}  \n",
       "1  {'n_neighbors': 5, 'p': 3}  \n",
       "2       {'criterion': 'gini'}  "
      ]
     },
     "execution_count": 636,
     "metadata": {},
     "output_type": "execute_result"
    }
   ],
   "source": [
    "model_selection(models, models_hyperparameters)"
   ]
  },
  {
   "cell_type": "markdown",
   "id": "0d84d057",
   "metadata": {},
   "source": [
    "Based on the accuracies score on the cross validations, the model selected is **Logistic Regression** with **C = 5**"
   ]
  },
  {
   "cell_type": "markdown",
   "id": "499e6cd9",
   "metadata": {},
   "source": [
    "## Accuracy Score, Precision, Recall & F1 Score for Selected Model"
   ]
  },
  {
   "cell_type": "code",
   "execution_count": 637,
   "id": "20e7c650",
   "metadata": {},
   "outputs": [],
   "source": [
    "selected_model = LogisticRegression(C=5, max_iter=1000)"
   ]
  },
  {
   "cell_type": "code",
   "execution_count": 638,
   "id": "9e2ffb92",
   "metadata": {},
   "outputs": [
    {
     "name": "stdout",
     "output_type": "stream",
     "text": [
      "Cross validations accuracies for model LogisticRegression(C=5, max_iter=1000): [0.7327883  0.72891566 0.78614458 0.79130809 0.80938038]\n",
      "Accuracy score for the model LogisticRegression(C=5, max_iter=1000): 76.97%\n"
     ]
    }
   ],
   "source": [
    "# Accuracy\n",
    "accuracy_score = cross_val_score(selected_model, X, Y, cv=5, scoring='accuracy')\n",
    "mean_accuracy = np.mean(accuracy_score)\n",
    "mean_accuracy = mean_accuracy * 100\n",
    "mean_accuracy = round(mean_accuracy, 2)\n",
    "print(f'Cross validations accuracies for model {selected_model}: {accuracy_score}')\n",
    "print(f'Accuracy score for the model {selected_model}: {mean_accuracy}%')"
   ]
  },
  {
   "cell_type": "code",
   "execution_count": 639,
   "id": "459bbedb",
   "metadata": {},
   "outputs": [
    {
     "name": "stdout",
     "output_type": "stream",
     "text": [
      "Cross validations precision for model LogisticRegression(C=5, max_iter=1000): [0.76236663 0.77708333 0.80036134 0.81784038 0.79637263]\n",
      "Precision score for the model LogisticRegression(C=5, max_iter=1000): 79.08%\n"
     ]
    }
   ],
   "source": [
    "# Precision\n",
    "precision_score = cross_val_score(selected_model, X, Y, cv=5, scoring='precision')\n",
    "mean_precision = np.mean(precision_score)\n",
    "mean_precision = mean_precision * 100\n",
    "mean_precision = round(mean_precision, 2)\n",
    "print(f'Cross validations precision for model {selected_model}: {precision_score}')\n",
    "print(f'Precision score for the model {selected_model}: {mean_precision}%')"
   ]
  },
  {
   "cell_type": "code",
   "execution_count": 640,
   "id": "b2d3490a",
   "metadata": {},
   "outputs": [
    {
     "name": "stdout",
     "output_type": "stream",
     "text": [
      "Cross validations recall for model LogisticRegression(C=5, max_iter=1000): [0.67641997 0.64199656 0.76247849 0.74956971 0.8313253 ]\n",
      "Recall score for the model LogisticRegression(C=5, max_iter=1000): 73.24%\n"
     ]
    }
   ],
   "source": [
    "# Recall\n",
    "recall_score = cross_val_score(selected_model, X, Y, cv=5, scoring='recall')\n",
    "mean_recall = np.mean(recall_score)\n",
    "mean_recall = mean_recall * 100\n",
    "mean_recall = round(mean_recall, 2)\n",
    "print(f'Cross validations recall for model {selected_model}: {recall_score}')\n",
    "print(f'Recall score for the model {selected_model}: {mean_recall}%')"
   ]
  },
  {
   "cell_type": "code",
   "execution_count": 641,
   "id": "46b005ca",
   "metadata": {},
   "outputs": [
    {
     "name": "stdout",
     "output_type": "stream",
     "text": [
      "Cross validations F1 Score for model LogisticRegression(C=5, max_iter=1000): [0.71682627 0.70311027 0.78096078 0.78221823 0.81347368]\n",
      "F1 score for the model LogisticRegression(C=5, max_iter=1000): 73.24%\n"
     ]
    }
   ],
   "source": [
    "# F1 Score\n",
    "f1_score = cross_val_score(selected_model, X, Y, cv=5, scoring='f1')\n",
    "mean_f1 = np.mean(f1_score)\n",
    "mean_f1 = mean_recall * 100\n",
    "mean_f1 = round(mean_recall, 2)\n",
    "print(f'Cross validations F1 Score for model {selected_model}: {f1_score}')\n",
    "print(f'F1 score for the model {selected_model}: {mean_f1}%')"
   ]
  },
  {
   "cell_type": "markdown",
   "id": "1ee63a84",
   "metadata": {},
   "source": [
    "**The metrics are good, so the Logistic Regression model is selected**"
   ]
  },
  {
   "cell_type": "markdown",
   "id": "a69286c0",
   "metadata": {},
   "source": [
    "## Model Training"
   ]
  },
  {
   "cell_type": "code",
   "execution_count": 642,
   "id": "25c9b10d",
   "metadata": {},
   "outputs": [],
   "source": [
    "X_train, X_test, Y_train, Y_test = train_test_split(X, Y, test_size=0.2, random_state=0, stratify=Y)"
   ]
  },
  {
   "cell_type": "code",
   "execution_count": 643,
   "id": "ef608b8a",
   "metadata": {},
   "outputs": [
    {
     "name": "stdout",
     "output_type": "stream",
     "text": [
      "(11620, 16) (9296, 16) (2324, 16)\n"
     ]
    }
   ],
   "source": [
    "print(X.shape, X_train.shape, X_test.shape)"
   ]
  },
  {
   "cell_type": "code",
   "execution_count": 644,
   "id": "088321c1",
   "metadata": {},
   "outputs": [
    {
     "data": {
      "text/html": [
       "<style>#sk-container-id-16 {color: black;background-color: white;}#sk-container-id-16 pre{padding: 0;}#sk-container-id-16 div.sk-toggleable {background-color: white;}#sk-container-id-16 label.sk-toggleable__label {cursor: pointer;display: block;width: 100%;margin-bottom: 0;padding: 0.3em;box-sizing: border-box;text-align: center;}#sk-container-id-16 label.sk-toggleable__label-arrow:before {content: \"▸\";float: left;margin-right: 0.25em;color: #696969;}#sk-container-id-16 label.sk-toggleable__label-arrow:hover:before {color: black;}#sk-container-id-16 div.sk-estimator:hover label.sk-toggleable__label-arrow:before {color: black;}#sk-container-id-16 div.sk-toggleable__content {max-height: 0;max-width: 0;overflow: hidden;text-align: left;background-color: #f0f8ff;}#sk-container-id-16 div.sk-toggleable__content pre {margin: 0.2em;color: black;border-radius: 0.25em;background-color: #f0f8ff;}#sk-container-id-16 input.sk-toggleable__control:checked~div.sk-toggleable__content {max-height: 200px;max-width: 100%;overflow: auto;}#sk-container-id-16 input.sk-toggleable__control:checked~label.sk-toggleable__label-arrow:before {content: \"▾\";}#sk-container-id-16 div.sk-estimator input.sk-toggleable__control:checked~label.sk-toggleable__label {background-color: #d4ebff;}#sk-container-id-16 div.sk-label input.sk-toggleable__control:checked~label.sk-toggleable__label {background-color: #d4ebff;}#sk-container-id-16 input.sk-hidden--visually {border: 0;clip: rect(1px 1px 1px 1px);clip: rect(1px, 1px, 1px, 1px);height: 1px;margin: -1px;overflow: hidden;padding: 0;position: absolute;width: 1px;}#sk-container-id-16 div.sk-estimator {font-family: monospace;background-color: #f0f8ff;border: 1px dotted black;border-radius: 0.25em;box-sizing: border-box;margin-bottom: 0.5em;}#sk-container-id-16 div.sk-estimator:hover {background-color: #d4ebff;}#sk-container-id-16 div.sk-parallel-item::after {content: \"\";width: 100%;border-bottom: 1px solid gray;flex-grow: 1;}#sk-container-id-16 div.sk-label:hover label.sk-toggleable__label {background-color: #d4ebff;}#sk-container-id-16 div.sk-serial::before {content: \"\";position: absolute;border-left: 1px solid gray;box-sizing: border-box;top: 0;bottom: 0;left: 50%;z-index: 0;}#sk-container-id-16 div.sk-serial {display: flex;flex-direction: column;align-items: center;background-color: white;padding-right: 0.2em;padding-left: 0.2em;position: relative;}#sk-container-id-16 div.sk-item {position: relative;z-index: 1;}#sk-container-id-16 div.sk-parallel {display: flex;align-items: stretch;justify-content: center;background-color: white;position: relative;}#sk-container-id-16 div.sk-item::before, #sk-container-id-16 div.sk-parallel-item::before {content: \"\";position: absolute;border-left: 1px solid gray;box-sizing: border-box;top: 0;bottom: 0;left: 50%;z-index: -1;}#sk-container-id-16 div.sk-parallel-item {display: flex;flex-direction: column;z-index: 1;position: relative;background-color: white;}#sk-container-id-16 div.sk-parallel-item:first-child::after {align-self: flex-end;width: 50%;}#sk-container-id-16 div.sk-parallel-item:last-child::after {align-self: flex-start;width: 50%;}#sk-container-id-16 div.sk-parallel-item:only-child::after {width: 0;}#sk-container-id-16 div.sk-dashed-wrapped {border: 1px dashed gray;margin: 0 0.4em 0.5em 0.4em;box-sizing: border-box;padding-bottom: 0.4em;background-color: white;}#sk-container-id-16 div.sk-label label {font-family: monospace;font-weight: bold;display: inline-block;line-height: 1.2em;}#sk-container-id-16 div.sk-label-container {text-align: center;}#sk-container-id-16 div.sk-container {/* jupyter's `normalize.less` sets `[hidden] { display: none; }` but bootstrap.min.css set `[hidden] { display: none !important; }` so we also need the `!important` here to be able to override the default hidden behavior on the sphinx rendered scikit-learn.org. See: https://github.com/scikit-learn/scikit-learn/issues/21755 */display: inline-block !important;position: relative;}#sk-container-id-16 div.sk-text-repr-fallback {display: none;}</style><div id=\"sk-container-id-16\" class=\"sk-top-container\"><div class=\"sk-text-repr-fallback\"><pre>LogisticRegression(C=5, max_iter=1000)</pre><b>In a Jupyter environment, please rerun this cell to show the HTML representation or trust the notebook. <br />On GitHub, the HTML representation is unable to render, please try loading this page with nbviewer.org.</b></div><div class=\"sk-container\" hidden><div class=\"sk-item\"><div class=\"sk-estimator sk-toggleable\"><input class=\"sk-toggleable__control sk-hidden--visually\" id=\"sk-estimator-id-16\" type=\"checkbox\" checked><label for=\"sk-estimator-id-16\" class=\"sk-toggleable__label sk-toggleable__label-arrow\">LogisticRegression</label><div class=\"sk-toggleable__content\"><pre>LogisticRegression(C=5, max_iter=1000)</pre></div></div></div></div></div>"
      ],
      "text/plain": [
       "LogisticRegression(C=5, max_iter=1000)"
      ]
     },
     "execution_count": 644,
     "metadata": {},
     "output_type": "execute_result"
    }
   ],
   "source": [
    "selected_model.fit(X_train, Y_train)"
   ]
  },
  {
   "cell_type": "code",
   "execution_count": 647,
   "id": "ec7a49ad",
   "metadata": {},
   "outputs": [],
   "source": [
    "# Prediction on training data\n",
    "Y_predicted_train = selected_model.predict(X_train)\n",
    "accuracy_on_training_data = accuracy_score(Y_train, Y_predicted_train)\n",
    "precision_on_training_data = precision_score(Y_train, Y_predicted_train)\n",
    "recall_on_training_data = recall_score(Y_train, Y_predicted_train)\n",
    "f1_on_training_data = f1_score(Y_train, Y_predicted_train)"
   ]
  },
  {
   "cell_type": "code",
   "execution_count": 648,
   "id": "272e7fef",
   "metadata": {},
   "outputs": [
    {
     "name": "stdout",
     "output_type": "stream",
     "text": [
      "Accuracy on training data is 80.57\n",
      "Precision on training data is 80.86\n",
      "Recall on training data is 80.1\n",
      "F1 Score on training data is 80.48\n"
     ]
    }
   ],
   "source": [
    "print(f\"Accuracy on training data is {round(accuracy_on_training_data * 100, 2)}\")\n",
    "print(f\"Precision on training data is {round(precision_on_training_data * 100, 2)}\")\n",
    "print(f\"Recall on training data is {round(recall_on_training_data * 100, 2)}\")\n",
    "print(f\"F1 Score on training data is {round(f1_on_training_data * 100, 2)}\")"
   ]
  },
  {
   "cell_type": "code",
   "execution_count": 649,
   "id": "468be1fa",
   "metadata": {},
   "outputs": [],
   "source": [
    "# Prediction on test data\n",
    "Y_predicted_test = selected_model.predict(X_test)\n",
    "accuracy_on_test_data = accuracy_score(Y_test, Y_predicted_test)\n",
    "precision_on_test_data = precision_score(Y_test, Y_predicted_test)\n",
    "recall_on_test_data = recall_score(Y_test, Y_predicted_test)\n",
    "f1_on_test_data = f1_score(Y_test, Y_predicted_test)"
   ]
  },
  {
   "cell_type": "code",
   "execution_count": 650,
   "id": "beea298a",
   "metadata": {},
   "outputs": [
    {
     "name": "stdout",
     "output_type": "stream",
     "text": [
      "Accuracy on test data is 79.3\n",
      "Precision on test data is 79.28\n",
      "Recall on test data is 79.35\n",
      "F1 Score on test data is 79.31\n"
     ]
    }
   ],
   "source": [
    "print(f\"Accuracy on test data is {round(accuracy_on_test_data * 100, 2)}\")\n",
    "print(f\"Precision on test data is {round(precision_on_test_data * 100, 2)}\")\n",
    "print(f\"Recall on test data is {round(recall_on_test_data * 100, 2)}\")\n",
    "print(f\"F1 Score on test data is {round(f1_on_test_data * 100, 2)}\")"
   ]
  },
  {
   "cell_type": "markdown",
   "id": "a375e058",
   "metadata": {},
   "source": [
    "## Confusion Matrix"
   ]
  },
  {
   "cell_type": "code",
   "execution_count": 651,
   "id": "6f4a3b3f",
   "metadata": {},
   "outputs": [
    {
     "name": "stdout",
     "output_type": "stream",
     "text": [
      "[[921 241]\n",
      " [240 922]]\n"
     ]
    }
   ],
   "source": [
    "cf_matrix = confusion_matrix(Y_test, Y_predicted_test)\n",
    "print(cf_matrix)"
   ]
  },
  {
   "cell_type": "code",
   "execution_count": 652,
   "id": "2aad75b8",
   "metadata": {},
   "outputs": [
    {
     "data": {
      "image/png": "[encoded data removed]",
      "text/plain": [
       "<Figure size 640x480 with 2 Axes>"
      ]
     },
     "metadata": {},
     "output_type": "display_data"
    }
   ],
   "source": [
    "sns.heatmap(cf_matrix, annot=True, fmt=\"g\")\n",
    "plt.xlabel('Predicted value')\n",
    "plt.ylabel('True value')\n",
    "plt.show()"
   ]
  },
  {
   "cell_type": "code",
   "execution_count": 653,
   "id": "70de9537",
   "metadata": {},
   "outputs": [],
   "source": [
    "metrics = ['Accuracy', 'Precision', 'Recall', 'F1-Score']\n",
    "columns = ['Cross Validation', 'Train Test Split']\n",
    "cross_validation_metrics = [mean_accuracy, mean_precision, mean_recall, mean_f1]\n",
    "train_test_metrics = [round(accuracy_on_test_data * 100, 2), round(precision_on_test_data * 100, 2), round(recall_on_test_data * 100, 2), round(f1_on_test_data * 100, 2)]\n",
    "metrics_df = pd.DataFrame(data={'Cross Validation': cross_validation_metrics, 'Train Test Split': train_test_metrics}, columns=columns, index=metrics)"
   ]
  },
  {
   "cell_type": "code",
   "execution_count": 654,
   "id": "b3d190db",
   "metadata": {},
   "outputs": [
    {
     "data": {
      "text/html": [
       "<div>\n",
       "<style scoped>\n",
       "    .dataframe tbody tr th:only-of-type {\n",
       "        vertical-align: middle;\n",
       "    }\n",
       "\n",
       "    .dataframe tbody tr th {\n",
       "        vertical-align: top;\n",
       "    }\n",
       "\n",
       "    .dataframe thead th {\n",
       "        text-align: right;\n",
       "    }\n",
       "</style>\n",
       "<table border=\"1\" class=\"dataframe\">\n",
       "  <thead>\n",
       "    <tr style=\"text-align: right;\">\n",
       "      <th></th>\n",
       "      <th>Cross Validation</th>\n",
       "      <th>Train Test Split</th>\n",
       "    </tr>\n",
       "  </thead>\n",
       "  <tbody>\n",
       "    <tr>\n",
       "      <th>Accuracy</th>\n",
       "      <td>76.97</td>\n",
       "      <td>79.30</td>\n",
       "    </tr>\n",
       "    <tr>\n",
       "      <th>Precision</th>\n",
       "      <td>79.08</td>\n",
       "      <td>79.28</td>\n",
       "    </tr>\n",
       "    <tr>\n",
       "      <th>Recall</th>\n",
       "      <td>73.24</td>\n",
       "      <td>79.35</td>\n",
       "    </tr>\n",
       "    <tr>\n",
       "      <th>F1-Score</th>\n",
       "      <td>73.24</td>\n",
       "      <td>79.31</td>\n",
       "    </tr>\n",
       "  </tbody>\n",
       "</table>\n",
       "</div>"
      ],
      "text/plain": [
       "           Cross Validation  Train Test Split\n",
       "Accuracy              76.97             79.30\n",
       "Precision             79.08             79.28\n",
       "Recall                73.24             79.35\n",
       "F1-Score              73.24             79.31"
      ]
     },
     "execution_count": 654,
     "metadata": {},
     "output_type": "execute_result"
    }
   ],
   "source": [
    "metrics_df.head()"
   ]
  },
  {
   "cell_type": "markdown",
   "id": "04e23bf1",
   "metadata": {},
   "source": [
    "The metrics on train test split seem consistent with the cross validation, so the model is considered trained."
   ]
  },
  {
   "cell_type": "markdown",
   "id": "918bb63d",
   "metadata": {},
   "source": [
    "## Predictive System"
   ]
  },
  {
   "cell_type": "code",
   "execution_count": 665,
   "id": "bdc70847",
   "metadata": {},
   "outputs": [
    {
     "name": "stdout",
     "output_type": "stream",
     "text": [
      "age                 59\n",
      "job             admin.\n",
      "marital        married\n",
      "education    secondary\n",
      "default             no\n",
      "balance           2343\n",
      "housing            yes\n",
      "loan                no\n",
      "contact        unknown\n",
      "day                  5\n",
      "month              may\n",
      "duration          1042\n",
      "campaign             1\n",
      "pdays               -1\n",
      "previous             0\n",
      "poutcome       unknown\n",
      "y                  yes\n",
      "Name: 83, dtype: object\n",
      "The client is likely to take a term deposit.\n"
     ]
    }
   ],
   "source": [
    "# Simulated input\n",
    "selected_row = 83\n",
    "input_client = marketing_data.iloc[[selected_row], :-1]\n",
    "# Separating text and number columns\n",
    "input_data_numbers = input_client.select_dtypes(include='number')\n",
    "input_data_text = input_client.select_dtypes(include='object')\n",
    "# Scaling the numbers\n",
    "input_data_numbers_scaled = pd.DataFrame(data=numbers_scaler.transform(input_data_numbers), columns=input_data_numbers.columns)\n",
    "# Text processing\n",
    "input_data_text_encoded = pd.DataFrame()\n",
    "for index, encoder in enumerate(text_encoders):\n",
    "    column_name = input_data_text.columns[index]\n",
    "    input_data_text_encoded[column_name] = encoder.fit_transform(input_data_text.iloc[:, index])\n",
    "# Concatenating text and numbers\n",
    "input_data_preprocessed = pd.concat([input_data_numbers_scaled, input_data_text_encoded], axis=1)\n",
    "# Prediction\n",
    "prediction = selected_model.predict(input_data_preprocessed)\n",
    "\n",
    "print(marketing_data.iloc[selected_row, :])\n",
    "\n",
    "if prediction[0] == 0:\n",
    "    print('The client is not likely to take a term deposit.')\n",
    "else:\n",
    "    print('The client is likely to take a term deposit.')\n"
   ]
  },
  {
   "cell_type": "markdown",
   "id": "19b5bddf",
   "metadata": {},
   "source": [
    "## Files for Django App"
   ]
  },
  {
   "cell_type": "markdown",
   "id": "435a70f6",
   "metadata": {},
   "source": [
    "First list with the possible options for categorical values will be generated."
   ]
  },
  {
   "cell_type": "code",
   "execution_count": 666,
   "id": "b07bb674",
   "metadata": {},
   "outputs": [
    {
     "name": "stdout",
     "output_type": "stream",
     "text": [
      "['management', 'technician', 'entrepreneur', 'blue-collar', 'unknown', 'retired', 'admin.', 'services', 'self-employed', 'unemployed', 'housemaid', 'student']\n"
     ]
    }
   ],
   "source": [
    "possible_job = marketing_data['job'].unique().tolist()\n",
    "print(possible_job)"
   ]
  },
  {
   "cell_type": "code",
   "execution_count": 667,
   "id": "fa9af794",
   "metadata": {},
   "outputs": [
    {
     "name": "stdout",
     "output_type": "stream",
     "text": [
      "['married', 'single', 'divorced']\n"
     ]
    }
   ],
   "source": [
    "possible_marital = marketing_data['marital'].unique().tolist()\n",
    "print(possible_marital)"
   ]
  },
  {
   "cell_type": "code",
   "execution_count": 668,
   "id": "32cf9a94",
   "metadata": {},
   "outputs": [
    {
     "name": "stdout",
     "output_type": "stream",
     "text": [
      "['no', 'yes']\n"
     ]
    }
   ],
   "source": [
    "possible_default = marketing_data['default'].unique().tolist()\n",
    "print(possible_default)"
   ]
  },
  {
   "cell_type": "code",
   "execution_count": 669,
   "id": "f17ee3e1",
   "metadata": {},
   "outputs": [
    {
     "name": "stdout",
     "output_type": "stream",
     "text": [
      "['yes', 'no']\n"
     ]
    }
   ],
   "source": [
    "possible_housing = marketing_data['housing'].unique().tolist()\n",
    "print(possible_housing)"
   ]
  },
  {
   "cell_type": "code",
   "execution_count": 670,
   "id": "d2ecfa97",
   "metadata": {},
   "outputs": [
    {
     "name": "stdout",
     "output_type": "stream",
     "text": [
      "['no', 'yes']\n"
     ]
    }
   ],
   "source": [
    "possible_loan = marketing_data['loan'].unique().tolist()\n",
    "print(possible_loan)"
   ]
  },
  {
   "cell_type": "code",
   "execution_count": 671,
   "id": "c9ab70b7",
   "metadata": {},
   "outputs": [
    {
     "name": "stdout",
     "output_type": "stream",
     "text": [
      "['unknown', 'cellular', 'telephone']\n"
     ]
    }
   ],
   "source": [
    "possible_contact = marketing_data['contact'].unique().tolist()\n",
    "print(possible_contact)"
   ]
  },
  {
   "cell_type": "code",
   "execution_count": 680,
   "id": "0ee5fa98",
   "metadata": {},
   "outputs": [],
   "source": [
    "possible_month = marketing_data['month'].unique().tolist()\n"
   ]
  },
  {
   "cell_type": "code",
   "execution_count": 682,
   "id": "bc984b15",
   "metadata": {},
   "outputs": [
    {
     "name": "stdout",
     "output_type": "stream",
     "text": [
      "['jan', 'feb', 'mar', 'apr', 'may', 'jun', 'jul', 'aug', 'sep', 'oct', 'nov', 'dec']\n"
     ]
    }
   ],
   "source": [
    "# Could have just used possible_month = month_order, but I wanted a general formula in case not all the months were present.\n",
    "possible_month = sorted(possible_month, key=lambda x: month_order.index(x))\n",
    "print(possible_month)"
   ]
  },
  {
   "cell_type": "code",
   "execution_count": 677,
   "id": "f7a5fb92",
   "metadata": {},
   "outputs": [
    {
     "name": "stdout",
     "output_type": "stream",
     "text": [
      "['unknown', 'failure', 'other', 'success']\n"
     ]
    }
   ],
   "source": [
    "possible_poutcome = marketing_data['poutcome'].unique().tolist()\n",
    "print(possible_poutcome)"
   ]
  },
  {
   "cell_type": "code",
   "execution_count": 683,
   "id": "4044f0c0",
   "metadata": {},
   "outputs": [],
   "source": [
    "form_input_data = {\n",
    "    'possible_job': possible_job,\n",
    "    'possible_marital': possible_marital,\n",
    "    'possible_default': possible_default,\n",
    "    'possible_housing': possible_housing,\n",
    "    'possible_loan': possible_loan,\n",
    "    'possible_contact': possible_contact,\n",
    "    'possible_month': possible_month,\n",
    "    'possible_poutcome': possible_poutcome\n",
    "}"
   ]
  },
  {
   "cell_type": "code",
   "execution_count": 691,
   "id": "1b157648",
   "metadata": {},
   "outputs": [
    {
     "name": "stdout",
     "output_type": "stream",
     "text": [
      "['age', 'job', 'marital', 'education', 'default', 'balance', 'housing', 'loan', 'contact', 'day', 'month', 'duration', 'campaign', 'pdays', 'previous', 'poutcome']\n"
     ]
    }
   ],
   "source": [
    "# Original columns (minus the target column) to generate dataframe following the same prediction procedure.\n",
    "input_data_columns = marketing_data.columns.tolist()[:-1]\n",
    "print(input_data_columns)"
   ]
  },
  {
   "cell_type": "markdown",
   "id": "008f4b3e",
   "metadata": {},
   "source": [
    "### Generating pickle files"
   ]
  },
  {
   "cell_type": "code",
   "execution_count": 684,
   "id": "07d6a931",
   "metadata": {},
   "outputs": [],
   "source": [
    "pd.to_pickle(form_input_data, 'pickle_files/form_input_data.pickle')"
   ]
  },
  {
   "cell_type": "code",
   "execution_count": 685,
   "id": "bd8b19cb",
   "metadata": {},
   "outputs": [],
   "source": [
    "pd.to_pickle(selected_model, 'pickle_files/selected_model.pickle')"
   ]
  },
  {
   "cell_type": "code",
   "execution_count": 686,
   "id": "a87aedb7",
   "metadata": {},
   "outputs": [],
   "source": [
    "pd.to_pickle(numbers_scaler, 'pickle_files/numbers_scaler.pickle')"
   ]
  },
  {
   "cell_type": "code",
   "execution_count": 687,
   "id": "720f6a37",
   "metadata": {},
   "outputs": [],
   "source": [
    "pd.to_pickle(text_encoders, 'pickle_files/text_encoders.pickle')"
   ]
  },
  {
   "cell_type": "code",
   "execution_count": 692,
   "id": "a6e6885c",
   "metadata": {},
   "outputs": [],
   "source": [
    "pd.to_pickle(input_data_columns, 'pickle_files/input_data_columns.pickle')"
   ]
  },
  {
   "cell_type": "code",
   "execution_count": 694,
   "id": "7fdfc557",
   "metadata": {},
   "outputs": [],
   "source": [
    "# csv with semicolon for easier testing\n",
    "marketing_data.to_csv(sep=';', path_or_buf='dataset/marketing_data_semicolon.csv', index=False)"
   ]
  },
  {
   "cell_type": "code",
   "execution_count": null,
   "id": "6f68e699",
   "metadata": {},
   "outputs": [],
   "source": []
  }
 ],
 "metadata": {
  "kernelspec": {
   "display_name": "Python 3 (ipykernel)",
   "language": "python",
   "name": "python3"
  },
  "language_info": {
   "codemirror_mode": {
    "name": "ipython",
    "version": 3
   },
   "file_extension": ".py",
   "mimetype": "text/x-python",
   "name": "python",
   "nbconvert_exporter": "python",
   "pygments_lexer": "ipython3",
   "version": "3.9.11"
  }
 },
 "nbformat": 4,
 "nbformat_minor": 5
}
